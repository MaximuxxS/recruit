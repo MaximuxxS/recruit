{
  "nbformat": 4,
  "nbformat_minor": 0,
  "metadata": {
    "colab": {
      "provenance": [],
      "authorship_tag": "ABX9TyNJusviT0c0/wfcOECTSdkk",
      "include_colab_link": true
    },
    "kernelspec": {
      "name": "python3",
      "display_name": "Python 3"
    },
    "language_info": {
      "name": "python"
    }
  },
  "cells": [
    {
      "cell_type": "markdown",
      "metadata": {
        "id": "view-in-github",
        "colab_type": "text"
      },
      "source": [
        "<a href=\"https://colab.research.google.com/github/MaximuxxS/recruit/blob/MaximuxxS-Aulas/Entrada_de_Dados.ipynb\" target=\"_parent\"><img src=\"https://colab.research.google.com/assets/colab-badge.svg\" alt=\"Open In Colab\"/></a>"
      ]
    },
    {
      "cell_type": "code",
      "execution_count": 11,
      "metadata": {
        "colab": {
          "base_uri": "https://localhost:8080/"
        },
        "id": "db5XKnEtvXZl",
        "outputId": "0bc71048-652e-40bc-aee8-9d098246909a"
      },
      "outputs": [
        {
          "output_type": "stream",
          "name": "stdout",
          "text": [
            "Qual a sua idade?19\n",
            "Qual a idade da sua irmão?13\n",
            "A média das suas idades é são: 16.0\n"
          ]
        }
      ],
      "source": [
        "varentrada = input(\"Qual a sua idade?\",)\n",
        "varinteira = int(varentrada)\n",
        "varentrada1 = input(\"Qual a idade da sua irmão?\",)\n",
        "varinteira1 = int(varentrada1)\n",
        "varmedia = (varinteira + varinteira1)/2\n",
        "print(\"A média das suas idades é são:\", varmedia)"
      ]
    },
    {
      "cell_type": "code",
      "source": [
        "varentrada = input(\"Em um triângulo ABC, qual o tamanho do lado AB?\")\n",
        "varentrada1 = input(\"Em um triângulo ABC, qual o tamanho do lado BC?\")\n",
        "varentrada2 = input(\"Em um triângulo ABC, qual o tamanho do lado CA?\")\n",
        "varentrada = int(varentrada)\n",
        "varentrada1 = int(varentrada1)\n",
        "varentrada2 = int(varentrada2)\n",
        "varperímetro = (varentrada + varentrada1 + varentrada2)\n",
        "vararea = (varentrada * varentrada1)/2\n",
        "print(\"O perímetro do triângulo é:\", varperímetro)\n",
        "print(\"A área do triângulo é:\", vararea)"
      ],
      "metadata": {
        "colab": {
          "base_uri": "https://localhost:8080/"
        },
        "id": "VSLBDZ9nydrH",
        "outputId": "5d4a98e0-7c71-4085-a428-1792da988150"
      },
      "execution_count": 12,
      "outputs": [
        {
          "output_type": "stream",
          "name": "stdout",
          "text": [
            "Em um triângulo ABC, qual o tamanho do lado AB? 5\n",
            "Em um triângulo ABC, qual o tamanho do lado BC? 4\n",
            "Em um triângulo ABC, qual o tamanho do lado CA? 6\n",
            "O perímetro do triângulo é: 15\n",
            "A área do triângulo é: 10.0\n"
          ]
        }
      ]
    },
    {
      "cell_type": "code",
      "source": [
        "emprestimo = input(\"Qual o valor do empréstimo?\")\n",
        "emprestimo = float(emprestimo)\n",
        "taxa_juros = input(\"Qual a taxa de juros?\")\n",
        "taxa_juros = float(taxa_juros)/100\n",
        "tempo = input(\"Em quantos meses?\")\n",
        "tempo = int(tempo)\n",
        "juros_simples = (emprestimo *(1+(taxa_juros*tempo)))\n",
        "print(\"O valor do empréstimo é:\", juros_simples)"
      ],
      "metadata": {
        "colab": {
          "base_uri": "https://localhost:8080/"
        },
        "id": "9ycAl8COz15K",
        "outputId": "735efd68-5f25-4354-e14c-62297054f673"
      },
      "execution_count": 17,
      "outputs": [
        {
          "output_type": "stream",
          "name": "stdout",
          "text": [
            "Qual o valor do empréstimo? 1230\n",
            "Qual a taxa de juros? 5\n",
            "Em quantos meses?3\n",
            "O valor do empréstimo é: 1414.5\n"
          ]
        }
      ]
    },
    {
      "cell_type": "code",
      "source": [
        "emprestimo = input(\"Qual o valor do empréstimo?\")\n",
        "emprestimo = float(emprestimo)\n",
        "taxa_juros = input(\"Qual a taxa de juros?\")\n",
        "taxa_juros = float(taxa_juros)/100\n",
        "tempo = input(\"Em quantos meses?\")\n",
        "tempo = int(tempo)\n",
        "juros_compostos = (emprestimo*(1+taxa_juros)**tempo)\n",
        "print(\"O valor do empréstimo é:\", juros_compostos)"
      ],
      "metadata": {
        "colab": {
          "base_uri": "https://localhost:8080/"
        },
        "id": "EMZMKR6E0xmL",
        "outputId": "c9f61628-e4d6-4914-bb9c-df3a62a3ebba"
      },
      "execution_count": 19,
      "outputs": [
        {
          "output_type": "stream",
          "name": "stdout",
          "text": [
            "Qual o valor do empréstimo?1230\n",
            "Qual a taxa de juros?5\n",
            "Em quantos meses?3\n",
            "O valor do empréstimo é: 1423.87875\n"
          ]
        }
      ]
    },
    {
      "cell_type": "code",
      "source": [
        "distancia = input(\"Quantos quilômetros você percorreu do Rio de Janeiro até São Paulo?\")\n",
        "distancia = float(distancia)\n",
        "velocidade = input(\"Qual a velocidade do seu carro?\")\n",
        "velocidade = float(velocidade)\n",
        "tempo = (distancia/velocidade)\n",
        "print(\"O tempo médio de percurso é:\", tempo ,\"horas\")\n",
        "velocidade_media = (distancia/tempo)\n",
        "print(\"A velocidade média do seu carro é:\", velocidade_media ,\"Km/h\")"
      ],
      "metadata": {
        "colab": {
          "base_uri": "https://localhost:8080/"
        },
        "id": "P3jrE-VS3Qo4",
        "outputId": "c3b8ad6b-375c-4ea4-874d-638bfbb7239c"
      },
      "execution_count": 22,
      "outputs": [
        {
          "output_type": "stream",
          "name": "stdout",
          "text": [
            "Quantos quilômetros você percorreu do Rio de Janeiro até São Paulo?270\n",
            "Qual a velocidade do seu carro?120\n",
            "O tempo médio de percurso é: 2.25 horas\n",
            "A velocidade média do seu carro é: 120.0 Km/h\n"
          ]
        }
      ]
    },
    {
      "cell_type": "code",
      "source": [
        "sNome = input(\"Qual o seu nome?\")\n",
        "sNome = str(sNome)\n",
        "print(\"Bom dia\", sNome)"
      ],
      "metadata": {
        "colab": {
          "base_uri": "https://localhost:8080/"
        },
        "id": "mxZyE5QX5IY5",
        "outputId": "6a0eebc3-e4fa-417b-b145-da8b43789f84"
      },
      "execution_count": 24,
      "outputs": [
        {
          "output_type": "stream",
          "name": "stdout",
          "text": [
            "Qual o seu nome?Pedro\n",
            "Bom dia Pedro\n"
          ]
        }
      ]
    }
  ]
}