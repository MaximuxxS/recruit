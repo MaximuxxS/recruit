{
  "nbformat": 4,
  "nbformat_minor": 0,
  "metadata": {
    "colab": {
      "provenance": [],
      "authorship_tag": "ABX9TyNIHAFQWZ4qyR06KGm/X9A0",
      "include_colab_link": true
    },
    "kernelspec": {
      "name": "python3",
      "display_name": "Python 3"
    },
    "language_info": {
      "name": "python"
    }
  },
  "cells": [
    {
      "cell_type": "markdown",
      "metadata": {
        "id": "view-in-github",
        "colab_type": "text"
      },
      "source": [
        "<a href=\"https://colab.research.google.com/github/MaximuxxS/recruit/blob/main/Entrada_e_Sa%C3%ADda_de_Dados.ipynb\" target=\"_parent\"><img src=\"https://colab.research.google.com/assets/colab-badge.svg\" alt=\"Open In Colab\"/></a>"
      ]
    },
    {
      "cell_type": "code",
      "execution_count": null,
      "metadata": {
        "colab": {
          "base_uri": "https://localhost:8080/"
        },
        "id": "iFzt_i_auFv5",
        "outputId": "593c3811-8c16-43ac-84e3-85f7455f8ecf"
      },
      "outputs": [
        {
          "output_type": "stream",
          "name": "stdout",
          "text": [
            "ANO A\n",
            "OCEANO ATLANTICO\n",
            "CEANO ATLANTICO\n",
            "EANO ATLANTICO\n",
            "ANO ATLANTICO\n",
            "NO ATLANTICO\n",
            "O ATLANTICO\n",
            " ATLANTICO\n",
            "ATLANTICO\n",
            "TLANTICO\n",
            "LANTICO\n",
            "ANTICO\n",
            "NTICO\n",
            "TICO\n",
            "ICO\n",
            "CO\n",
            "O\n"
          ]
        }
      ],
      "source": [
        "# Parte = todo[inicio:fim]\n",
        "\n",
        "#Se forem vazios: o Python atribuirá a início o valor zero e a fim o maior índice da string.\n",
        "#Se forem negativos: serão determinados pelo tamanho da cadeia de caracteres menos o valor de referência.\n",
        "\n",
        "#Exemplo:\n",
        "todo = \"OCEANO ATLANTICO\" #substring, é pegar um pedaço de um texto original, sejam letras, sílabas, palavras ou pequenas fases e construir algo novo\n",
        "print(todo[3:8]) #O algarismo que finaliza onde você quer que termine a substring, para não errar ou esquecer que tem o zero, basta pegar esse número final e subtrair 1 ou seja, n - 1\n",
        "print(todo[1:])  #O algarismo que você coloca no início é por onde ele vai começar... Lembrando que qualquer frase, texto, o que seja, sempre será iniciado por 0; 1; 2; n;...\n",
        "print(todo[2:])\n",
        "print(todo[3:])\n",
        "print(todo[4:])\n",
        "print(todo[5:])\n",
        "print(todo[6:])\n",
        "print(todo[7:])\n",
        "print(todo[8:])\n",
        "print(todo[9:])\n",
        "print(todo[10:])\n",
        "print(todo[11:])\n",
        "print(todo[12:])\n",
        "print(todo[13:])\n",
        "print(todo[14:])\n",
        "print(todo[15:])"
      ]
    },
    {
      "cell_type": "code",
      "source": [
        "todos = \"oceano\"\n",
        "toda = \"atlantico\"\n",
        "maiusculo = todos.capitalize() #capitalize tem como função deixr a primeira letra maiúscula da palavra em que está na variável\n",
        "grande = toda.capitalize()\n",
        "print(maiusculo +\" \"+ grande)"
      ],
      "metadata": {
        "colab": {
          "base_uri": "https://localhost:8080/"
        },
        "id": "RYAEn_Ntvyox",
        "outputId": "15f44481-a947-4162-d406-0ddd5926efe9"
      },
      "execution_count": null,
      "outputs": [
        {
          "output_type": "stream",
          "name": "stdout",
          "text": [
            "Oceano Atlantico\n"
          ]
        }
      ]
    },
    {
      "cell_type": "code",
      "source": [
        "todos = \"oceano\"\n",
        "toda = \"atlantico\"\n",
        "maiusculo = todos.upper()\n",
        "grande = toda.upper()\n",
        "print(maiusculo +\" \"+ grande)"
      ],
      "metadata": {
        "colab": {
          "base_uri": "https://localhost:8080/"
        },
        "id": "gxv9tlko35J2",
        "outputId": "f2fa2052-c8f9-4ffb-e201-e9982a087113"
      },
      "execution_count": null,
      "outputs": [
        {
          "output_type": "stream",
          "name": "stdout",
          "text": [
            "OCEANO ATLANTICO\n"
          ]
        }
      ]
    },
    {
      "cell_type": "code",
      "source": [
        "todos = \"OCEANO\"\n",
        "toda = \"ATLANTICO\"\n",
        "maiusculo = todos.lower()\n",
        "grande = toda.lower()\n",
        "print(maiusculo +\" \"+ grande)"
      ],
      "metadata": {
        "colab": {
          "base_uri": "https://localhost:8080/"
        },
        "id": "ozgUUTDv4FxQ",
        "outputId": "0d10f75c-8586-4853-b7cb-6d1bdfe3dec9"
      },
      "execution_count": null,
      "outputs": [
        {
          "output_type": "stream",
          "name": "stdout",
          "text": [
            "oceano atlantico\n"
          ]
        }
      ]
    },
    {
      "cell_type": "code",
      "source": [
        "toda = \"atlantico\"\n",
        "grande= toda.capitalize() #capitalize tem como função deixr a primeira letra maiúscula da palavra em que está na variável\n",
        "centro = grande.center(20) #Faz o texto ficar centralizado em uma linha de largura \"x\" caracteres (sabendo que o comando conta os caracteres da palavra também)\n",
        "print(centro)"
      ],
      "metadata": {
        "colab": {
          "base_uri": "https://localhost:8080/"
        },
        "id": "9E-nYsOHzvW4",
        "outputId": "fda5f018-db87-4fc1-a798-6c7094d84e2b"
      },
      "execution_count": null,
      "outputs": [
        {
          "output_type": "stream",
          "name": "stdout",
          "text": [
            "     Atlantico      \n"
          ]
        }
      ]
    },
    {
      "cell_type": "code",
      "source": [
        "toda = \"   atlantico\"\n",
        "espaco = toda.lstrip()\n",
        "todo = \"atlantico\"\n",
        "espacos = todo.lstrip(\"a\") # Saída: \"   tlantico\"\n",
        "print(espaco)\n",
        "print(espacos)"
      ],
      "metadata": {
        "colab": {
          "base_uri": "https://localhost:8080/"
        },
        "id": "to_rtzFh0NNu",
        "outputId": "a974d3b9-57ac-44f8-dddd-ded13dac6b24"
      },
      "execution_count": null,
      "outputs": [
        {
          "output_type": "stream",
          "name": "stdout",
          "text": [
            "atlantico\n",
            "tlantico\n"
          ]
        }
      ]
    },
    {
      "cell_type": "code",
      "source": [
        "todo = \"atlantico\"\n",
        "espacos = todo.replace(\"a\",\"b\", 2)# Substitui a primeira ocorrência de \"a\" por \"b\" por no máximo 2 vez\n",
        "print(espacos)"
      ],
      "metadata": {
        "colab": {
          "base_uri": "https://localhost:8080/"
        },
        "id": "ujtfx39k3VzV",
        "outputId": "3ee55522-703d-4fac-8ec5-444cd8bae648"
      },
      "execution_count": null,
      "outputs": [
        {
          "output_type": "stream",
          "name": "stdout",
          "text": [
            "btlbntico\n"
          ]
        }
      ]
    },
    {
      "cell_type": "code",
      "source": [
        "todo = \"atlantico\"\n",
        "a = todo.count(\"a\") # Conta quantas vezes aparece a letra \"a\"\n",
        "print(a)\n",
        "\n",
        "termina = todo.endswith(\"a\") # Verifica se a string termina com a letra \"a\"\n",
        "print(termina)\n",
        "\n",
        "comeca = todo.startswith(\"a\") # Verifica se a string começa com a letra \"a\"\n",
        "print(comeca)"
      ],
      "metadata": {
        "colab": {
          "base_uri": "https://localhost:8080/"
        },
        "id": "9V84WHDk4VO5",
        "outputId": "0260d53b-ddce-45ec-c15a-46e4b4d3b22f"
      },
      "execution_count": null,
      "outputs": [
        {
          "output_type": "stream",
          "name": "stdout",
          "text": [
            "2\n",
            "False\n",
            "True\n"
          ]
        }
      ]
    },
    {
      "cell_type": "code",
      "source": [
        "texto = \"Olá, mundo!\"\n",
        "\n",
        "# Encontra a primeira ocorrência de \"mundo\"\n",
        "indice = texto.find(\"mundo\")\n",
        "print(indice)  # Saída: 7\n",
        "indices = texto.find(\"banana\")\n",
        "print(indices) #O resultado será -1 quando a substring não é encontrado nos índices"
      ],
      "metadata": {
        "colab": {
          "base_uri": "https://localhost:8080/"
        },
        "id": "fPQI3LLp6C5h",
        "outputId": "c0e84b44-8d44-424f-8831-3726467938cb"
      },
      "execution_count": null,
      "outputs": [
        {
          "output_type": "stream",
          "name": "stdout",
          "text": [
            "5\n",
            "-1\n"
          ]
        }
      ]
    },
    {
      "cell_type": "code",
      "source": [
        "texto = \"Olá, mundo!\"\n",
        "\n",
        "# Encontra a primeira ocorrência de \"mundo\"\n",
        "indice = texto.rfind(\"mundo\")\n",
        "print(indice)  # Saída: 7\n",
        "indices = texto.rfind(\"banana\")\n",
        "print(indices) #O resultado será -1 quando a substring não é encontrado nos índices"
      ],
      "metadata": {
        "colab": {
          "base_uri": "https://localhost:8080/"
        },
        "id": "p3vCp7eg7mHj",
        "outputId": "f9f23b44-c6d9-47c2-f022-eea38c271aa6"
      },
      "execution_count": null,
      "outputs": [
        {
          "output_type": "stream",
          "name": "stdout",
          "text": [
            "5\n",
            "-1\n"
          ]
        }
      ]
    },
    {
      "cell_type": "code",
      "source": [
        "texto = \"Olá, mundo!\"\n",
        "\n",
        "# Encontra a primeira ocorrência de \"mundo\"\n",
        "indice = texto.index(\"mundo\")\n",
        "print(indice)\n",
        "indices = texto.index(\"banana\")\n",
        "print(indices) # A tendência é essa função dar valour erro pois a substring não tem nos índices"
      ],
      "metadata": {
        "colab": {
          "base_uri": "https://localhost:8080/",
          "height": 211
        },
        "id": "C2NRHFMB6YA7",
        "outputId": "3a3fcb20-1369-40e1-d8b7-902651ef51b8"
      },
      "execution_count": null,
      "outputs": [
        {
          "output_type": "stream",
          "name": "stdout",
          "text": [
            "5\n"
          ]
        },
        {
          "output_type": "error",
          "ename": "ValueError",
          "evalue": "substring not found",
          "traceback": [
            "\u001b[0;31m---------------------------------------------------------------------------\u001b[0m",
            "\u001b[0;31mValueError\u001b[0m                                Traceback (most recent call last)",
            "\u001b[0;32m<ipython-input-50-aafc1d3013c1>\u001b[0m in \u001b[0;36m<cell line: 6>\u001b[0;34m()\u001b[0m\n\u001b[1;32m      4\u001b[0m \u001b[0mindice\u001b[0m \u001b[0;34m=\u001b[0m \u001b[0mtexto\u001b[0m\u001b[0;34m.\u001b[0m\u001b[0mindex\u001b[0m\u001b[0;34m(\u001b[0m\u001b[0;34m\"mundo\"\u001b[0m\u001b[0;34m)\u001b[0m\u001b[0;34m\u001b[0m\u001b[0;34m\u001b[0m\u001b[0m\n\u001b[1;32m      5\u001b[0m \u001b[0mprint\u001b[0m\u001b[0;34m(\u001b[0m\u001b[0mindice\u001b[0m\u001b[0;34m)\u001b[0m  \u001b[0;31m# Saída: 7\u001b[0m\u001b[0;34m\u001b[0m\u001b[0;34m\u001b[0m\u001b[0m\n\u001b[0;32m----> 6\u001b[0;31m \u001b[0mindices\u001b[0m \u001b[0;34m=\u001b[0m \u001b[0mtexto\u001b[0m\u001b[0;34m.\u001b[0m\u001b[0mindex\u001b[0m\u001b[0;34m(\u001b[0m\u001b[0;34m\"banana\"\u001b[0m\u001b[0;34m)\u001b[0m\u001b[0;34m\u001b[0m\u001b[0;34m\u001b[0m\u001b[0m\n\u001b[0m\u001b[1;32m      7\u001b[0m \u001b[0mprint\u001b[0m\u001b[0;34m(\u001b[0m\u001b[0mindices\u001b[0m\u001b[0;34m)\u001b[0m \u001b[0;31m# A tendência é essa função dar valour erro pois a substring não tem nos índices\u001b[0m\u001b[0;34m\u001b[0m\u001b[0;34m\u001b[0m\u001b[0m\n",
            "\u001b[0;31mValueError\u001b[0m: substring not found"
          ]
        }
      ]
    },
    {
      "cell_type": "code",
      "source": [
        "texto = \"olá, mundo!\"\n",
        "\n",
        "# Encontra a última ocorrência de \"mundo\"\n",
        "indice = texto.rindex(\"mundo\")\n",
        "print(indice)  # Saída: 7\n",
        "\n",
        "# O código a seguir gerará um ValueError, pois \"banana\" não está presente na string\n",
        "# indices = texto.rindex(\"banana\")\n",
        "# print(indices)"
      ],
      "metadata": {
        "colab": {
          "base_uri": "https://localhost:8080/"
        },
        "id": "chh16i_o7M-9",
        "outputId": "ac130cfd-3914-4f6b-a33c-e1d807bd363d"
      },
      "execution_count": null,
      "outputs": [
        {
          "output_type": "stream",
          "name": "stdout",
          "text": [
            "5\n"
          ]
        }
      ]
    },
    {
      "cell_type": "code",
      "source": [
        "texto = \"Esta é uma string de exemplo\"\n",
        "\n",
        "# Usando split() sem argumentos: divide a string em uma lista de palavras\n",
        "palavras = texto.split()\n",
        "print(palavras)  # Saída: ['Esta', 'é', 'uma', 'string', 'de', 'exemplo']\n",
        "\n",
        "# Usando split(' ') com espaço como delimitador\n",
        "palavras_com_espaco = texto.split(' ')\n",
        "print(palavras_com_espaco)  # Saída: ['Esta', 'é', 'uma', 'string', 'de', 'exemplo']\n",
        "\n",
        "# Usando split('é') com 'é' como delimitador\n",
        "partes = texto.split('é')\n",
        "print(partes)  # Saída: ['Esta ', ' uma string de exemplo']\n",
        "\n",
        "# Usando split() com um limite\n",
        "partes_limitadas = texto.split(' ', 2)\n",
        "print(partes_limitadas) # Saída: ['Esta', 'é', 'uma string de exemplo']"
      ],
      "metadata": {
        "id": "8PTCsnFV-Dc9"
      },
      "execution_count": null,
      "outputs": []
    },
    {
      "cell_type": "code",
      "source": [
        "todo = \"OCEANO ATLANTICO\"\n",
        "print(len(todo)) #imprime o tamanho da string\n",
        "\n",
        "todos = \"oceano\"\n",
        "toda = \"atlantico\"\n",
        "print(len(todos)) #imprime o tamanho da string\n",
        "print(len(toda)) #imprime o tamanho da string"
      ],
      "metadata": {
        "colab": {
          "base_uri": "https://localhost:8080/"
        },
        "id": "VCGLvTUY-lHJ",
        "outputId": "7b50d2f3-8234-441c-c57f-8653a24cac6d"
      },
      "execution_count": null,
      "outputs": [
        {
          "output_type": "stream",
          "name": "stdout",
          "text": [
            "16\n",
            "6\n",
            "9\n"
          ]
        }
      ]
    },
    {
      "cell_type": "code",
      "source": [
        "\n",
        "texto = input(\"Digite um texto: \")\n",
        "def contar_vogais(texto):\n",
        "    vogais = \"aeiouAEIOU\"\n",
        "    contador = 0\n",
        "    for letra in texto:\n",
        "        if letra in vogais:\n",
        "            contador += 1\n",
        "    return contador\n",
        "# Chamando a função e imprimindo o resultado\n",
        "print(contar_vogais(texto))"
      ],
      "metadata": {
        "colab": {
          "base_uri": "https://localhost:8080/"
        },
        "id": "ely8k-_F_b4T",
        "outputId": "7c0e7fbd-1737-4744-cdc3-345dcbde9f50"
      },
      "execution_count": null,
      "outputs": [
        {
          "output_type": "stream",
          "name": "stdout",
          "text": [
            "Digite um texto: Em dias chuvosos, os animais correm para seus abrigos\n",
            "20\n"
          ]
        }
      ]
    },
    {
      "cell_type": "code",
      "source": [
        "palavra = \"UFSCar\"\n",
        "tabela_substituicao = str.maketrans(\"uUaAeEiIoO\", \"11@@--!!00\")\n",
        "criptografado = palavra.translate(tabela_substituicao)\n",
        "print(criptografado)  # Saída: 1FSC@r\n",
        "\n",
        "\n",
        "\n",
        "palavra = \"UFSCar\"\n",
        "substituicoes = {\n",
        "    \"u\": \"1\", \"U\": \"1\",\n",
        "    \"a\": \"@\", \"A\": \"@\",\n",
        "    \"e\": \"-\", \"E\": \"-\",\n",
        "    \"i\": \"!\", \"I\": \"!\",\n",
        "    \"o\": \"0\", \"O\": \"0\"\n",
        "}\n",
        "\n",
        "criptografado = palavra\n",
        "for original, substituto in substituicoes.items():\n",
        "    criptografado = criptografado.replace(original, substituto)\n",
        "\n",
        "print(criptografado)  # Saída: 1FSC@r"
      ],
      "metadata": {
        "colab": {
          "base_uri": "https://localhost:8080/"
        },
        "id": "quUODecwA4DW",
        "outputId": "5197e4e2-4722-486b-a075-1196cd94a770"
      },
      "execution_count": null,
      "outputs": [
        {
          "output_type": "stream",
          "name": "stdout",
          "text": [
            "1FSC@r\n",
            "1FSC@r\n"
          ]
        }
      ]
    }
  ]
}