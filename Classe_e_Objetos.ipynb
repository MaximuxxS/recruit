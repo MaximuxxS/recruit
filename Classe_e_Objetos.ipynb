{
  "nbformat": 4,
  "nbformat_minor": 0,
  "metadata": {
    "colab": {
      "provenance": [],
      "authorship_tag": "ABX9TyMgHePeBdeJr4aQRWhc/50t",
      "include_colab_link": true
    },
    "kernelspec": {
      "name": "python3",
      "display_name": "Python 3"
    },
    "language_info": {
      "name": "python"
    }
  },
  "cells": [
    {
      "cell_type": "markdown",
      "metadata": {
        "id": "view-in-github",
        "colab_type": "text"
      },
      "source": [
        "<a href=\"https://colab.research.google.com/github/MaximuxxS/recruit/blob/main/Classe_e_Objetos.ipynb\" target=\"_parent\"><img src=\"https://colab.research.google.com/assets/colab-badge.svg\" alt=\"Open In Colab\"/></a>"
      ]
    },
    {
      "cell_type": "code",
      "execution_count": 5,
      "metadata": {
        "colab": {
          "base_uri": "https://localhost:8080/"
        },
        "id": "bRe8tceMybqj",
        "outputId": "b83785ee-644f-4df5-ce2c-f324bfbb5d20"
      },
      "outputs": [
        {
          "output_type": "stream",
          "name": "stdout",
          "text": [
            "Lira Bateu a meta\n",
            "Lira Não está na frequência\n",
            "<__main__.Vendedor object at 0x7e398036a810>\n",
            "João Bateu a meta\n",
            "João Está na frequência\n",
            "<__main__.Vendedor object at 0x7e3973d12210>\n"
          ]
        }
      ],
      "source": [
        "class Vendedor():\n",
        "    def __init__(self, nome):\n",
        "        self.nome = nome\n",
        "        self.vendas = 0\n",
        "\n",
        "    def vendeu(self, vendas):\n",
        "        self.vendas += vendas\n",
        "\n",
        "    def idade(self, idade):\n",
        "        self.idade = idade\n",
        "\n",
        "    def frequencia(self, frenquencia):\n",
        "        if frenquencia > 20:  # Use the method argument 'frenquencia'\n",
        "            print(self.nome, \"Está na frequência\")\n",
        "        else:\n",
        "            print(self.nome, \"Não está na frequência\")\n",
        "\n",
        "    def bateu_meta(self, meta):\n",
        "        if self.vendas > meta:\n",
        "            print(self.nome, \"Bateu a meta\")\n",
        "        else:\n",
        "            print(self.nome, \"Não bateu a meta\")\n",
        "\n",
        "vendedor1 = Vendedor(\"Lira\")\n",
        "vendedor1.vendeu(1000)\n",
        "vendedor1.bateu_meta(500)\n",
        "vendedor1.idade(20)\n",
        "vendedor1.frequencia(20)\n",
        "print(vendedor1)\n",
        "\n",
        "vendedor2 = Vendedor(\"João\")\n",
        "vendedor2.vendeu(5567)\n",
        "vendedor2.bateu_meta(500)\n",
        "vendedor2.idade(20)\n",
        "vendedor2.frequencia(21)\n",
        "print(vendedor2)\n",
        "\n"
      ]
    },
    {
      "cell_type": "code",
      "source": [
        "class NotaMusical:\n",
        "    def __init__(self, nota_inicial=\"\", frequencia_inicial=0):\n",
        "        self.nota = nota_inicial\n",
        "        self.frequencia = frequencia_inicial\n",
        "\n",
        "    def __str__(self):\n",
        "        return f\"Nota: {self.nota}, Frequência: {self.frequencia}\"\n",
        "\n",
        "    def __gt__(self, other):\n",
        "        return self.frequencia > other.frequencia\n",
        "\n",
        "# Criando instâncias da classe NotaMusical\n",
        "som1 = NotaMusical(\"Dó\", 440)\n",
        "som2 = NotaMusical(\"Ré\", 493.88)\n",
        "\n",
        "# Comparando as frequências usando o operador >\n",
        "print(som1 > som2)  # False, pois 440 (som1) não é maior que 493.88 (som2)\n",
        "print(som2 > som1)  # True, pois 493.88 (som2) é maior que 440 (som1)"
      ],
      "metadata": {
        "colab": {
          "base_uri": "https://localhost:8080/"
        },
        "id": "g6w-72610ggd",
        "outputId": "4673243d-c82c-4e32-ea0f-0b30b4b701ae"
      },
      "execution_count": 9,
      "outputs": [
        {
          "output_type": "stream",
          "name": "stdout",
          "text": [
            "False\n",
            "True\n"
          ]
        }
      ]
    },
    {
      "source": [
        "class NotaMusical:\n",
        "    def __init__(self, nota_inicial=\"\", frequencia_inicial=0):\n",
        "        self.nota = nota_inicial\n",
        "        self.frequencia = frequencia_inicial\n",
        "\n",
        "    def __str__(self):\n",
        "        return f\"Nota: {self.nota}, Frequência: {self.frequencia}\"\n",
        "\n",
        "# Criando uma instância da classe NotaMusical\n",
        "som = NotaMusical(\"Dó\", 440)\n",
        "\n",
        "# Imprimindo o objeto usando print()\n",
        "print(som)  # Saída: Nota: Dó, Frequência: 440"
      ],
      "cell_type": "code",
      "metadata": {
        "colab": {
          "base_uri": "https://localhost:8080/"
        },
        "id": "fo_RT2kk8PoF",
        "outputId": "c89dfb24-7334-4e41-d5b0-85ad8c031d9d"
      },
      "execution_count": 10,
      "outputs": [
        {
          "output_type": "stream",
          "name": "stdout",
          "text": [
            "Nota: Dó, Frequência: 440\n"
          ]
        }
      ]
    },
    {
      "source": [
        "class Som:\n",
        "    def __init__(self, frequencia):\n",
        "        self.frequencia = frequencia\n",
        "\n",
        "class NotaMusical(Som):\n",
        "    def __init__(self, nome, frequencia):\n",
        "        super().__init__(frequencia)\n",
        "        self.nome = nome\n",
        "\n",
        "    def __str__(self):\n",
        "        return f\"Nome: {self.nome}, Frequência: {self.frequencia}\"\n",
        "\n",
        "# Criando as notas musicais\n",
        "notas = [\n",
        "    NotaMusical(\"Dó\", 132),\n",
        "    NotaMusical(\"Ré\", 148.1),\n",
        "    NotaMusical(\"Mi\", 166.3),\n",
        "    NotaMusical(\"Fá\", 186.1),\n",
        "    NotaMusical(\"Sol\", 208)\n",
        "]\n",
        "\n",
        "# Imprimindo as notas\n",
        "for nota in notas:\n",
        "    print(nota)"
      ],
      "cell_type": "code",
      "metadata": {
        "colab": {
          "base_uri": "https://localhost:8080/"
        },
        "id": "9hmJ05sQ8ua-",
        "outputId": "80c78410-6ba7-4a76-b3e6-65b9a8fba22e"
      },
      "execution_count": 13,
      "outputs": [
        {
          "output_type": "stream",
          "name": "stdout",
          "text": [
            "Nome: Dó, Frequência: 132\n",
            "Nome: Ré, Frequência: 148.1\n",
            "Nome: Mi, Frequência: 166.3\n",
            "Nome: Fá, Frequência: 186.1\n",
            "Nome: Sol, Frequência: 208\n"
          ]
        }
      ]
    },
    {
      "source": [
        "class Som:\n",
        "    def __init__(self, frequencia):\n",
        "        self.frequencia = frequencia\n",
        "\n",
        "    def escreve(self):\n",
        "        print(self.frequencia)\n",
        "\n",
        "class NotaMusical(Som):\n",
        "    def __init__(self, nome, frequencia):\n",
        "        super().__init__(frequencia)\n",
        "        self.nome = nome\n",
        "\n",
        "    def __str__(self):\n",
        "        return f\"Nome: {self.nome}, Frequência: {self.frequencia}\"\n",
        "\n",
        "    def escreve(self):\n",
        "        print(self.frequencia, self.nome, sep=\",\")\n",
        "\n",
        "# Criando um objeto Som\n",
        "som1 = Som(440)\n",
        "\n",
        "# Criando um objeto NotaMusical\n",
        "nota1 = NotaMusical(\"Dó\", 440)\n",
        "\n",
        "# Chamando o método escreve() para cada objeto\n",
        "som1.escreve()  # Saída: 440\n",
        "nota1.escreve() # Saída: 440,Dó"
      ],
      "cell_type": "code",
      "metadata": {
        "colab": {
          "base_uri": "https://localhost:8080/"
        },
        "id": "p2lS0eRo9VZ2",
        "outputId": "eb81a4e0-fb96-4156-f730-4c1d6aa8dd4b"
      },
      "execution_count": 16,
      "outputs": [
        {
          "output_type": "stream",
          "name": "stdout",
          "text": [
            "440\n",
            "440,Dó\n"
          ]
        }
      ]
    }
  ]
}