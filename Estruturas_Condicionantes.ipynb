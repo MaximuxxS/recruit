{
  "nbformat": 4,
  "nbformat_minor": 0,
  "metadata": {
    "colab": {
      "provenance": [],
      "authorship_tag": "ABX9TyO9hiWsCAdUOrudSOY1HCKc",
      "include_colab_link": true
    },
    "kernelspec": {
      "name": "python3",
      "display_name": "Python 3"
    },
    "language_info": {
      "name": "python"
    }
  },
  "cells": [
    {
      "cell_type": "markdown",
      "metadata": {
        "id": "view-in-github",
        "colab_type": "text"
      },
      "source": [
        "<a href=\"https://colab.research.google.com/github/MaximuxxS/recruit/blob/MaximuxxS-Aulas/Estruturas_Condicionantes.ipynb\" target=\"_parent\"><img src=\"https://colab.research.google.com/assets/colab-badge.svg\" alt=\"Open In Colab\"/></a>"
      ]
    },
    {
      "cell_type": "code",
      "execution_count": 2,
      "metadata": {
        "colab": {
          "base_uri": "https://localhost:8080/"
        },
        "id": "62XI9n2FE3JN",
        "outputId": "fc05954f-e236-41ac-96aa-bf031beaaec6"
      },
      "outputs": [
        {
          "output_type": "stream",
          "name": "stdout",
          "text": [
            "Digite um número: 26789576349\n",
            "26789576349 é ímpar\n"
          ]
        }
      ],
      "source": [
        "numero = int(input(\"Digite um número: \"))\n",
        "\n",
        "if numero % 2 == 0:\n",
        "  print(f\"{numero} é par\")\n",
        "else:\n",
        "  print(f\"{numero} é ímpar\")"
      ]
    },
    {
      "cell_type": "code",
      "source": [
        "from random import randint\n",
        "print (\"Jogo Pedra-Papel-Tesoura\")\n",
        "print (\"Digite 1 para jogar Pedra, 2 para Papel e 3 para Tesoura\")\n",
        "jog = int(input(\"Digite sua jogada: \")) #int converte o número para inteiro\n",
        "pc = randint(1,3)\n",
        "print (\"O computador jogou:\", pc)\n",
        "if (jog == 1 and pc == 3) or (jog == 2 and pc == 1) or (jog == 3 and pc == 2):\n",
        "  print (\"Você ganhou!\")\n",
        "elif jog == pc:\n",
        "  print (\"Empate!\")\n",
        "else:\n",
        "  print (\"Você perdeu!\")"
      ],
      "metadata": {
        "colab": {
          "base_uri": "https://localhost:8080/"
        },
        "id": "RrqhAJxtFZm9",
        "outputId": "bc011e75-70d9-4047-ae08-e770ccb8219f"
      },
      "execution_count": 4,
      "outputs": [
        {
          "output_type": "stream",
          "name": "stdout",
          "text": [
            "Jogo Pedra-Papel-Tesoura\n",
            "Digite 1 para jogar Pedra, 2 para Papel e 3 para Tesoura\n",
            "Digite sua jogada: 3\n",
            "O computador jogou: 3\n",
            "Empate!\n"
          ]
        }
      ]
    },
    {
      "cell_type": "code",
      "source": [
        "valor_1 = int(input('Digite o primeiro  valor: '))\n",
        "valor_2 = int(input('Digite o segundo  valor: '))\n",
        "valor_3 = int(input('Digite o terceiro  valor: '))\n",
        "\n",
        "#Instrução condicional\n",
        "if (valor_1 <= valor_2):\n",
        "    #Utilizamos uma atribuição condicional\n",
        "    menor = valor_1 if valor_1 < valor_3 else valor_3\n",
        "else:\n",
        "    menor = valor_2 if valor_2 < valor_3 else valor_3\n",
        "print('********** SAÍDA **********')\n",
        "print('O menor valor é: ', menor)"
      ],
      "metadata": {
        "colab": {
          "base_uri": "https://localhost:8080/"
        },
        "id": "AY7fftXDHw2h",
        "outputId": "6d5fb5dc-1ce2-4807-e57a-1e93d33950e5"
      },
      "execution_count": 7,
      "outputs": [
        {
          "output_type": "stream",
          "name": "stdout",
          "text": [
            "Digite o primeiro  valor: 2\n",
            "Digite o segundo  valor: 3\n",
            "Digite o terceiro  valor: 3\n",
            "********** SAÍDA **********\n",
            "O menor valor é:  2\n"
          ]
        }
      ]
    },
    {
      "cell_type": "code",
      "source": [
        "# Leitura do primeiro valor.\n",
        "#Dica o comando input retorna o conteúdo digitado com string, por isso é necessário\n",
        "#converter para inteiro\n",
        "\n",
        "valor_1 = int(input('Digite o primeiro  valor: '))\n",
        "valor_2 = int(input('Digite o segundo  valor: '))\n",
        "valor_3 = int(input('Digite o terceiro  valor: '))\n",
        "\n",
        "#Verifico se o menor valor é valor_1\n",
        "if (valor_1 <= valor_2) and (valor_1 <= valor_3):\n",
        "    menor = valor_1\n",
        "    if (valor_2 <= valor_3):\n",
        "        meio = valor_2\n",
        "        maior= valor_3\n",
        "    else:\n",
        "        meio = valor_3\n",
        "        maior=valor_2\n",
        "\n",
        "#Verifica se o menor valor é o valor 1\n",
        "elif (valor_2 <= valor_1) and (valor_2 <= valor_3):\n",
        "    menor = valor_2\n",
        "    if (valor_1 <= valor_3):\n",
        "        meio = valor_1\n",
        "        maior= valor_3\n",
        "    else:\n",
        "        meio = valor_3\n",
        "        maior=valor_1\n",
        "else:\n",
        "    menor = valor_3\n",
        "    if (valor_1 <= valor_2):\n",
        "        meio = valor_1\n",
        "        maior= valor_2\n",
        "    else:\n",
        "        meio = valor_2\n",
        "        maior=valor_1\n",
        "\n",
        "print('******SAÍDA*****')\n",
        "\n",
        "print('Menor: ', menor)\n",
        "print('Meio : ', meio)\n",
        "print('Maior: ', maior)"
      ],
      "metadata": {
        "colab": {
          "base_uri": "https://localhost:8080/"
        },
        "id": "2x7eEqx-IgBh",
        "outputId": "ccdb0793-ada9-44ff-d30a-3c463fca4cd7"
      },
      "execution_count": 8,
      "outputs": [
        {
          "output_type": "stream",
          "name": "stdout",
          "text": [
            "Digite o primeiro  valor: 4\n",
            "Digite o segundo  valor: 8\n",
            "Digite o terceiro  valor: 6\n",
            "******SAÍDA*****\n",
            "Menor:  4\n",
            "Meio :  6\n",
            "Maior:  8\n"
          ]
        }
      ]
    },
    {
      "cell_type": "code",
      "source": [
        "valor_1 = int(input('Digite o comprimento da aresta 1 do triangulo: '))\n",
        "valor_2 = int(input('Digite o comprimento da aresta 2 do triangulo: '))\n",
        "valor_3 = int(input('Digite o comprimento da aresta 3 do triangulo: '))\n",
        "\n",
        "#O comprimento de cada lado de um triângulo deve ser menor que a soma dos outros dois\n",
        "Ehtriangulo = (valor_1 < valor_2 + valor_3) and (valor_1+valor_2 > valor_3) and (valor_1 + valor_3 > valor_2)\n",
        "\n",
        "if not Ehtriangulo:\n",
        "    print('Esses valores não pertencem a um triangulo')\n",
        "elif (valor_1 == valor_2) and (valor_2 == valor_3):\n",
        "    print('Triangulo equilátero')\n",
        "elif(valor_1 == valor_2) or (valor_2 == valor_3) or (valor_1 == valor_3):\n",
        "\n",
        "    print('Triangulo isósceles')\n",
        "else: print('Triangula escaleno')\n"
      ],
      "metadata": {
        "colab": {
          "base_uri": "https://localhost:8080/"
        },
        "id": "CBRFkTYSImWy",
        "outputId": "60ce15f0-0cb0-47e5-a8c8-8eee95e5b612"
      },
      "execution_count": 15,
      "outputs": [
        {
          "output_type": "stream",
          "name": "stdout",
          "text": [
            "Digite o comprimento da aresta 1 do triangulo: 9\n",
            "Digite o comprimento da aresta 2 do triangulo: 9\n",
            "Digite o comprimento da aresta 3 do triangulo: 9\n",
            "Triangulo equilátero\n"
          ]
        }
      ]
    },
    {
      "cell_type": "code",
      "source": [
        "#Exercício Proposto 3.2  Faça um programa que leia 3 valores inteiros e imprima o maior deles.\n",
        "valor_1 = int(input('Digite o primeiro  valor: '))\n",
        "valor_2 = int(input('Digite o segundo  valor: '))\n",
        "valor_3 = int(input('Digite o terceiro  valor: '))\n",
        "if valor_1 >= valor_2:\n",
        "  if valor_1 >= valor_3:\n",
        "    maior = valor_1\n",
        "  else:\n",
        "    maior = valor_3\n",
        "else:\n",
        "  if valor_2 >= valor_3:\n",
        "    maior = valor_2\n",
        "  else:\n",
        "    maior = valor_3\n",
        "print('O maior valor é: ', maior)"
      ],
      "metadata": {
        "colab": {
          "base_uri": "https://localhost:8080/"
        },
        "id": "e-VTjjUsK-Sp",
        "outputId": "bbc5178a-d23e-4324-dc96-a5c9850eb0f2"
      },
      "execution_count": 19,
      "outputs": [
        {
          "output_type": "stream",
          "name": "stdout",
          "text": [
            "Digite o primeiro  valor: 627562752561\n",
            "Digite o segundo  valor: 157165916591616\n",
            "Digite o terceiro  valor: 1765617561956193\n",
            "O maior valor é:  1765617561956193\n"
          ]
        }
      ]
    },
    {
      "cell_type": "code",
      "source": [
        "# Exercício proposto. Faça um programa que resolva uma equação de segundo grau. Considerando a equação ax2 + bx + c = 0 o programa deverá ler os valores de a, b e c da equação e utilizar a fórmula de Bhaskara:\n",
        "\n",
        "\n",
        "import math\n",
        "\n",
        "a = float(input(\"Digite o valor de a: \"))\n",
        "b = float(input(\"Digite o valor de b: \"))\n",
        "c = float(input(\"Digite o valor de c: \"))\n",
        "\n",
        "delta = b**2 - 4*a*c\n",
        "\n",
        "if delta < 0:\n",
        "  print(\"A equação não possui raízes reais.\")\n",
        "elif delta == 0:\n",
        "  x = -b / (2*a)\n",
        "  print(f\"A equação possui uma raiz real: x = {x}\")\n",
        "else:\n",
        "  x1 = (-b + math.sqrt(delta)) / (2*a)\n",
        "  x2 = (-b - math.sqrt(delta)) / (2*a)\n",
        "  print(f\"A equação possui duas raízes reais: x1 = {x1} e x2 = {x2}\")"
      ],
      "metadata": {
        "colab": {
          "base_uri": "https://localhost:8080/"
        },
        "id": "pf6QP6AALdF0",
        "outputId": "3680eb02-3361-4dd3-99eb-7aae93939c17"
      },
      "execution_count": 20,
      "outputs": [
        {
          "output_type": "stream",
          "name": "stdout",
          "text": [
            "Digite o valor de a: -4\n",
            "Digite o valor de b: 6\n",
            "Digite o valor de c: 4\n",
            "A equação possui duas raízes reais: x1 = -0.5 e x2 = 2.0\n"
          ]
        }
      ]
    }
  ]
}