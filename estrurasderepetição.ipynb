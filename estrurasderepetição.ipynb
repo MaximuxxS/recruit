{
  "nbformat": 4,
  "nbformat_minor": 0,
  "metadata": {
    "colab": {
      "provenance": [],
      "authorship_tag": "ABX9TyOKwOcnxvMReNFRjhrkDyoQ",
      "include_colab_link": true
    },
    "kernelspec": {
      "name": "python3",
      "display_name": "Python 3"
    },
    "language_info": {
      "name": "python"
    }
  },
  "cells": [
    {
      "cell_type": "markdown",
      "metadata": {
        "id": "view-in-github",
        "colab_type": "text"
      },
      "source": [
        "<a href=\"https://colab.research.google.com/github/MaximuxxS/recruit/blob/main/estrurasderepeti%C3%A7%C3%A3o.ipynb\" target=\"_parent\"><img src=\"https://colab.research.google.com/assets/colab-badge.svg\" alt=\"Open In Colab\"/></a>"
      ]
    },
    {
      "cell_type": "code",
      "execution_count": 1,
      "metadata": {
        "id": "dq-cajilS4DP",
        "colab": {
          "base_uri": "https://localhost:8080/"
        },
        "outputId": "53abefdd-d671-4921-be40-32bb56967815"
      },
      "outputs": [
        {
          "output_type": "stream",
          "name": "stdout",
          "text": [
            "Adivinhe o número (entre 1 e 100): 20\n",
            "Muito baixo!\n",
            "Adivinhe o número (entre 1 e 100): 40\n",
            "Muito baixo!\n",
            "Adivinhe o número (entre 1 e 100): 10\n",
            "Muito baixo!\n",
            "Adivinhe o número (entre 1 e 100): 5\n",
            "Muito baixo!\n",
            "Adivinhe o número (entre 1 e 100): 1\n",
            "Muito baixo!\n",
            "Adivinhe o número (entre 1 e 100): 23\n",
            "Muito baixo!\n",
            "Adivinhe o número (entre 1 e 100): 623\n",
            "Muito alto!\n",
            "Adivinhe o número (entre 1 e 100): 50\n",
            "Muito alto!\n",
            "Adivinhe o número (entre 1 e 100): 40\n",
            "Muito baixo!\n",
            "Adivinhe o número (entre 1 e 100): 45\n",
            "Muito alto!\n",
            "Adivinhe o número (entre 1 e 100): 44\n",
            "Muito alto!\n",
            "Adivinhe o número (entre 1 e 100): 43\n",
            "Parabéns! Você acertou em 12 tentativas.\n"
          ]
        }
      ],
      "source": [
        "# prompt: while numero sorteado\n",
        "\n",
        "import random\n",
        "\n",
        "def sortear_numero():\n",
        "  \"\"\"Sorteia um número aleatório entre 1 e 100.\"\"\"\n",
        "  return random.randint(1, 100)\n",
        "\n",
        "numero_sorteado = sortear_numero()\n",
        "tentativas = 0\n",
        "\n",
        "while True:\n",
        "  tentativa = int(input(\"Adivinhe o número (entre 1 e 100): \"))\n",
        "  tentativas += 1\n",
        "\n",
        "  if tentativa < numero_sorteado:\n",
        "    print(\"Muito baixo!\")\n",
        "  elif tentativa > numero_sorteado:\n",
        "    print(\"Muito alto!\")\n",
        "  else:\n",
        "    print(f\"Parabéns! Você acertou em {tentativas} tentativas.\")\n",
        "    break\n"
      ]
    },
    {
      "cell_type": "code",
      "source": [
        "#!/usr/bin/env python3\n",
        "from random import randint\n",
        "\n",
        "# Computador sorteia um número inteiro entre 1 e 100\n",
        "num_sorteado = randint(1, 100)\n",
        "\n",
        "# Número de tentativas máximas\n",
        "num_tentativas_max = 10\n",
        "\n",
        "# Número de tentativas realizadas\n",
        "num_tentativas = 0\n",
        "\n",
        "# Inicializando variável para o número digitado\n",
        "num_digitado = 0\n",
        "\n",
        "# Laço para o jogador adivinhar o número\n",
        "while num_tentativas < num_tentativas_max and num_sorteado != num_digitado:\n",
        "    print(f\"Você tem {num_tentativas_max - num_tentativas} chances.\")\n",
        "\n",
        "    # Solicita ao jogador um número\n",
        "    try:\n",
        "        num_digitado = int(input(\"Qual o número escolhido pelo computador? \"))\n",
        "    except ValueError:\n",
        "        print(\"Por favor, digite um número inteiro válido!\")\n",
        "        continue  # Pula para a próxima iteração do laço\n",
        "\n",
        "    # Incrementa o número de tentativas\n",
        "    num_tentativas += 1\n",
        "\n",
        "    # Dicas para o jogador\n",
        "    if num_digitado < num_sorteado:\n",
        "        print(f\"O número sorteado é maior que {num_digitado}.\")\n",
        "    elif num_digitado > num_sorteado:\n",
        "        print(f\"O número sorteado é menor que {num_digitado}.\")\n",
        "\n",
        "# Mensagem final\n",
        "if num_digitado == num_sorteado:\n",
        "    print(f\"Parabéns! Você acertou o número {num_sorteado} em {num_tentativas} tentativas.\")\n",
        "else:\n",
        "    print(f\"Não foi dessa vez! Você perdeu. O número sorteado era {num_sorteado}.\")"
      ],
      "metadata": {
        "colab": {
          "base_uri": "https://localhost:8080/"
        },
        "id": "YeAklvkPT0CU",
        "outputId": "3be8314a-3587-45ab-a273-eb9f4ccdbd8f"
      },
      "execution_count": 3,
      "outputs": [
        {
          "output_type": "stream",
          "name": "stdout",
          "text": [
            "Você tem 10 chances.\n",
            "Qual o número escolhido pelo computador? 20\n",
            "O número sorteado é maior que 20.\n",
            "Você tem 9 chances.\n",
            "Qual o número escolhido pelo computador? 40\n",
            "O número sorteado é maior que 40.\n",
            "Você tem 8 chances.\n",
            "Qual o número escolhido pelo computador? 60\n",
            "O número sorteado é maior que 60.\n",
            "Você tem 7 chances.\n",
            "Qual o número escolhido pelo computador? 80\n",
            "O número sorteado é menor que 80.\n",
            "Você tem 6 chances.\n",
            "Qual o número escolhido pelo computador? 70\n",
            "O número sorteado é menor que 70.\n",
            "Você tem 5 chances.\n",
            "Qual o número escolhido pelo computador? 65\n",
            "O número sorteado é maior que 65.\n",
            "Você tem 4 chances.\n",
            "Qual o número escolhido pelo computador? 66\n",
            "O número sorteado é maior que 66.\n",
            "Você tem 3 chances.\n",
            "Qual o número escolhido pelo computador? 68\n",
            "Parabéns! Você acertou o número 68 em 8 tentativas.\n"
          ]
        }
      ]
    },
    {
      "cell_type": "markdown",
      "source": [
        "Faça um programa que leia 3 números inteiros e imprima o valor do mínimo múltiplo comum MMC."
      ],
      "metadata": {
        "id": "9sTvexxDMwAu"
      }
    },
    {
      "cell_type": "code",
      "source": [
        "valor_1 = int(input('Digite o primeiro  valor: '))\n",
        "valor_2 = int(input('Digite o segundo  valor: '))\n",
        "valor_3 = int(input('Digite o terceiro  valor: '))\n",
        "\n",
        "Produtorio = 1\n",
        "\n",
        "NaoTerminou   =  valor_1 == valor_2 and valor_2 == valor_3 and valor_1 == 1\n",
        "divisor = 1\n",
        "while (not NaoTerminou): #enquanto NaoTerminou vale 0, \"not NaoTerminou\" vale 1, e o loop continua\n",
        "    HouveDivisao = True\n",
        "    divisor += 1\n",
        "    while(HouveDivisao):\n",
        "        HouveDivisao = False\n",
        "        if (valor_1 % divisor == 0):\n",
        "            valor_1 = valor_1 / divisor\n",
        "            HouveDivisao = True\n",
        "        if (valor_2 % divisor == 0):\n",
        "            valor_2 = valor_2 / divisor\n",
        "            HouveDivisao = True\n",
        "        if (valor_3 % divisor == 0):\n",
        "            valor_3 = valor_3 / divisor\n",
        "            HouveDivisao = True\n",
        "        if (HouveDivisao):\n",
        "            Produtorio *= divisor\n",
        "\n",
        "    NaoTerminou   =  (valor_1 == 1 and valor_2 == 1 and valor_3 == 1) #NaoTerminou so vale 1 se todos forem 1\n",
        "\n",
        "print(Produtorio)"
      ],
      "metadata": {
        "colab": {
          "base_uri": "https://localhost:8080/"
        },
        "id": "G_qY8wdxXZmt",
        "outputId": "4eb49787-e5b7-48f5-93b7-0aad024b5005"
      },
      "execution_count": null,
      "outputs": [
        {
          "output_type": "stream",
          "name": "stdout",
          "text": [
            "Digite o primeiro  valor: 60\n",
            "Digite o segundo  valor: 40\n",
            "Digite o terceiro  valor: 25\n",
            "600\n"
          ]
        }
      ]
    },
    {
      "cell_type": "code",
      "source": [
        "x = 0\n",
        "while(x<4):\n",
        "    print(x, end = \" \")\n",
        "    x+=1\n",
        "print ()\n",
        "print ()\n",
        "\n",
        "\n",
        "x = 1\n",
        "while(x<4):\n",
        "    print(x, end = \" \")\n",
        "    x+=1\n",
        "\n",
        "print ()\n",
        "print ()\n",
        "\n",
        "x = 1\n",
        "while(x < 8):\n",
        "    print(x, end = \" \")\n",
        "    x += 2\n",
        "\n",
        "print ()\n",
        "print ()\n",
        "\n",
        "x = 8\n",
        "while(x > 1):\n",
        "    print(x, end = \" \")\n",
        "    x -= 2"
      ],
      "metadata": {
        "colab": {
          "base_uri": "https://localhost:8080/"
        },
        "id": "hhavPTEyXhS7",
        "outputId": "a247f0c6-8f64-4e2b-9f2c-0c448e2ff327"
      },
      "execution_count": null,
      "outputs": [
        {
          "output_type": "stream",
          "name": "stdout",
          "text": [
            "0 1 2 3 \n",
            "\n",
            "1 2 3 \n",
            "\n",
            "1 3 5 7 \n",
            "\n",
            "8 6 4 2 "
          ]
        }
      ]
    },
    {
      "cell_type": "code",
      "source": [
        "numero = int(input('Digite um número: '))\n",
        "\n",
        "fat = 1\n",
        "\n",
        "for N in range(1,numero+1):\n",
        "    print(N)\n",
        "    fat = fat* N\n",
        "\n",
        "print('Fatorial : ', fat)"
      ],
      "metadata": {
        "colab": {
          "base_uri": "https://localhost:8080/"
        },
        "id": "71H2TxT4Xkw_",
        "outputId": "40fd2e5c-2aef-4b7b-d8c1-85cd25163d69"
      },
      "execution_count": null,
      "outputs": [
        {
          "output_type": "stream",
          "name": "stdout",
          "text": [
            "Digite um número: 5\n",
            "1\n",
            "2\n",
            "3\n",
            "4\n",
            "5\n",
            "Fatorial :  120\n"
          ]
        }
      ]
    },
    {
      "cell_type": "markdown",
      "source": [
        "Exercícios 3.6, 3.9, 3.14"
      ],
      "metadata": {
        "id": "X1fVPUOsPTh7"
      }
    },
    {
      "cell_type": "code",
      "source": [
        "# prompt: Um script Python que lê vários números positivos do teclado. Quando o número lido é -1, o script deve parar e retornar a soma de todos os números positivos inseridos, a média desses números, o menor e o maior número digitado. Escreva em portugues\n",
        "\n",
        "def processar_numeros():\n",
        "  \"\"\"Lê números positivos do teclado até -1 ser inserido, e retorna estatísticas.\"\"\"\n",
        "\n",
        "  numeros = []\n",
        "  while True:\n",
        "    try:\n",
        "      numero = int(input(\"Digite um número positivo (ou -1 para parar): \"))\n",
        "      if numero == -1:\n",
        "        break\n",
        "      elif numero >= 0 :\n",
        "        numeros.append(numero)\n",
        "      else:\n",
        "        print(\"Por favor, digite um número positivo ou -1.\")\n",
        "    except ValueError:\n",
        "      print(\"Entrada inválida. Digite um número inteiro.\")\n",
        "\n",
        "  if not numeros:\n",
        "    print(\"Nenhum número positivo foi inserido.\")\n",
        "    return\n",
        "\n",
        "  soma = sum(numeros)\n",
        "  media = soma / len(numeros)\n",
        "  menor = min(numeros)\n",
        "  maior = max(numeros)\n",
        "\n",
        "  print(f\"Soma: {soma}\")\n",
        "  print(f\"Média: {media}\")\n",
        "  print(f\"Menor número: {menor}\")\n",
        "  print(f\"Maior número: {maior}\")\n",
        "\n",
        "processar_numeros()"
      ],
      "metadata": {
        "colab": {
          "base_uri": "https://localhost:8080/"
        },
        "id": "nAgp1OsePXmU",
        "outputId": "191f655b-b8e1-4923-9f15-a8f922cfbd75"
      },
      "execution_count": 6,
      "outputs": [
        {
          "output_type": "stream",
          "name": "stdout",
          "text": [
            "Digite um número positivo (ou -1 para parar): -1\n",
            "Nenhum número positivo foi inserido.\n"
          ]
        }
      ]
    },
    {
      "cell_type": "code",
      "source": [
        "#MDC de dois números inteiros\n",
        "\n",
        "def mdc(a, b):\n",
        "  \"\"\"Calcula o MDC de dois números usando o método das divisões sucessivas.\"\"\"\n",
        "  while(b):\n",
        "    a, b = b, a % b\n",
        "  return a\n",
        "\n",
        "num1 = int(input(\"Digite o primeiro número inteiro: \"))\n",
        "num2 = int(input(\"Digite o segundo número inteiro: \"))\n",
        "\n",
        "resultado_mdc = mdc(num1, num2)\n",
        "print(f\"O MDC de {num1} e {num2} é {resultado_mdc}\")"
      ],
      "metadata": {
        "colab": {
          "base_uri": "https://localhost:8080/"
        },
        "id": "RSvbSSRhSW2M",
        "outputId": "2ce41fb1-0164-465e-8fd7-c9274a329733"
      },
      "execution_count": 14,
      "outputs": [
        {
          "output_type": "stream",
          "name": "stdout",
          "text": [
            "Digite o primeiro número inteiro: 5\n",
            "Digite o segundo número inteiro: 3\n",
            "O MDC de 5 e 3 é 1\n"
          ]
        }
      ]
    },
    {
      "cell_type": "code",
      "source": [
        "# prompt: Faça um programa que calcule o valor futuro de um investimento em (n) meses futuros por uma taxa de juros (i). O programa deverá ler o período de investimento em meses (n), uma taxa de juros ao mês (i) e o valor investido (Investimento). O programa deverá apresentar o valor futuro (VF) calculado por juros simples e por juros composto mês a mês.\n",
        "\n",
        "def calcular_valor_futuro():\n",
        "    n = int(input(\"Digite o período de investimento em meses (n): \"))\n",
        "    i = float(input(\"Digite a taxa de juros mensal (i) em decimal (ex: 0.05 para 5%): \"))\n",
        "    investimento = float(input(\"Digite o valor investido (Investimento): \"))\n",
        "\n",
        "    # Juros Simples\n",
        "    vf_simples = investimento * (1 + n * i)\n",
        "\n",
        "    # Juros Compostos\n",
        "    vf_composto = investimento * (1 + i)**n\n",
        "\n",
        "    print(f\"\\nValor Futuro:\")\n",
        "    print(f\"Juros Simples: {vf_simples:.2f}\")\n",
        "    print(f\"Juros Compostos: {vf_composto:.2f}\")\n",
        "\n",
        "calcular_valor_futuro()"
      ],
      "metadata": {
        "id": "1id1Iwy_Vz1d"
      },
      "execution_count": null,
      "outputs": []
    }
  ]
}