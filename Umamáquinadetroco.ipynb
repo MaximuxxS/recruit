{
  "nbformat": 4,
  "nbformat_minor": 0,
  "metadata": {
    "colab": {
      "provenance": [],
      "gpuType": "T4",
      "authorship_tag": "ABX9TyOY7TUFdPpQIsPIaMyptDXI",
      "include_colab_link": true
    },
    "kernelspec": {
      "name": "python3",
      "display_name": "Python 3"
    },
    "language_info": {
      "name": "python"
    },
    "accelerator": "GPU"
  },
  "cells": [
    {
      "cell_type": "markdown",
      "metadata": {
        "id": "view-in-github",
        "colab_type": "text"
      },
      "source": [
        "<a href=\"https://colab.research.google.com/github/MaximuxxS/recruit/blob/main/Umam%C3%A1quinadetroco.ipynb\" target=\"_parent\"><img src=\"https://colab.research.google.com/assets/colab-badge.svg\" alt=\"Open In Colab\"/></a>"
      ]
    },
    {
      "cell_type": "code",
      "source": [
        "# Uma máquina de troco\n",
        "\n",
        "valor = 678.75\n",
        "# Calculando o número de notas de 200\n",
        "notas200 = int(valor / 200)\n",
        "valor = valor % 200\n",
        "print(\"Entregar\", notas200, \"notas de 200 reais\")\n",
        "\n",
        "# Calculando o número de notas de 100\n",
        "notas100 = int(valor / 100)\n",
        "valor = valor % 100\n",
        "print(\"Entregar\", notas100, \"notas de 100 reais\")\n",
        "\n",
        "# Calculando o número de notas de 50\n",
        "notas50 = int(valor / 50)\n",
        "valor = valor % 50\n",
        "print(\"Entregar\", notas50, \"notas de 50 reais\")\n",
        "\n",
        "# Calculando o número de notas de 20\n",
        "notas20 = int(valor / 20)\n",
        "valor = valor % 20\n",
        "print(\"Entregar\", notas20, \"notas de 20 reais\")\n",
        "\n",
        "# Calculando o número de notas de 10\n",
        "notas10 = int(valor / 10)\n",
        "valor = valor % 10\n",
        "print(\"Entregar\", notas10, \"notas de 10 reais\")\n",
        "\n",
        "# Calculando o número de notas de 5\n",
        "notas5 = int(valor / 5)\n",
        "valor = valor % 5\n",
        "print(\"Entregar\", notas5, \"notas de 5 reais\")\n",
        "\n",
        "# Calculando o número de moedas de 1\n",
        "moedas1 = int(valor / 1)\n",
        "valor = valor % 1\n",
        "print(\"Entregar\", moedas1, \"moedas de 1 reais\")\n",
        "\n",
        "# Calculando o número de moedas de 0.50\n",
        "moedas050 = int(valor / 0.50)\n",
        "valor = valor % 0.50\n",
        "print(\"Entregar\", moedas050, \"moedas de 0,50 centávos\")\n",
        "\n",
        "# Calculando o número de moedas de 0.25\n",
        "new_var = 25\n",
        "moedas025 = int(valor / 0.25)\n",
        "valor = valor % 0.25\n",
        "print(\"Entregar\", moedas025, \"moedas de 0,25 centávos\")\n",
        "\n"
      ],
      "metadata": {
        "id": "DTEbtrIX5W0I",
        "colab": {
          "base_uri": "https://localhost:8080/"
        },
        "outputId": "84396adb-0e26-4515-9223-891b61e5ee8a"
      },
      "execution_count": 11,
      "outputs": [
        {
          "output_type": "stream",
          "name": "stdout",
          "text": [
            "Entregar 3 notas de 200 reais\n",
            "Entregar 0 notas de 100 reais\n",
            "Entregar 1 notas de 50 reais\n",
            "Entregar 1 notas de 20 reais\n",
            "Entregar 0 notas de 10 reais\n",
            "Entregar 1 notas de 5 reais\n",
            "Entregar 3 moedas de 1 reais\n",
            "Entregar 1 moedas de 0,50 centávos\n",
            "Entregar 1 moedas de 0,25 centávos\n"
          ]
        }
      ]
    },
    {
      "cell_type": "code",
      "source": [
        "valor = 135.0\n",
        "# Calculando o número de notas de 100\n",
        "notas100 = int(valor / 100)\n",
        "valor = valor % 100\n",
        "print(\"Entregar\", notas100, \"notas de 100\")"
      ],
      "metadata": {
        "colab": {
          "base_uri": "https://localhost:8080/"
        },
        "id": "UZ97GaWc0Gqe",
        "outputId": "9703440d-74ba-4007-9241-bf36b2735523"
      },
      "execution_count": 4,
      "outputs": [
        {
          "output_type": "stream",
          "name": "stdout",
          "text": [
            "Entregar 1 notas de 100\n"
          ]
        }
      ]
    },
    {
      "cell_type": "code",
      "source": [
        "# Calculando o número de notas de 50\n",
        "notas50 = int(valor / 50)\n",
        "valor = valor % 50\n",
        "print(\"Entregar\", notas50, \"notas de 50\")"
      ],
      "metadata": {
        "colab": {
          "base_uri": "https://localhost:8080/"
        },
        "id": "FrZSnj711BlG",
        "outputId": "4933a934-8dd5-4270-f827-f73bce417310"
      },
      "execution_count": 5,
      "outputs": [
        {
          "output_type": "stream",
          "name": "stdout",
          "text": [
            "Entregar 0 notas de 50\n"
          ]
        }
      ]
    }
  ]
}