{
  "nbformat": 4,
  "nbformat_minor": 0,
  "metadata": {
    "colab": {
      "provenance": [],
      "authorship_tag": "ABX9TyMijkRKDwoyl07+fr65CR9H",
      "include_colab_link": true
    },
    "kernelspec": {
      "name": "python3",
      "display_name": "Python 3"
    },
    "language_info": {
      "name": "python"
    }
  },
  "cells": [
    {
      "cell_type": "markdown",
      "metadata": {
        "id": "view-in-github",
        "colab_type": "text"
      },
      "source": [
        "<a href=\"https://colab.research.google.com/github/MaximuxxS/recruit/blob/main/Fun%C3%A7%C3%B5es_Procedimentos.ipynb\" target=\"_parent\"><img src=\"https://colab.research.google.com/assets/colab-badge.svg\" alt=\"Open In Colab\"/></a>"
      ]
    },
    {
      "cell_type": "code",
      "execution_count": 3,
      "metadata": {
        "colab": {
          "base_uri": "https://localhost:8080/"
        },
        "id": "29kb8z6_Sp20",
        "outputId": "11eef63b-d6b1-44e1-b28f-6d51cf5d560c"
      },
      "outputs": [
        {
          "output_type": "stream",
          "name": "stdout",
          "text": [
            "6 - 6 - 6 - "
          ]
        }
      ],
      "source": [
        "#!/usr/bin/env python3\n",
        "def polinomio(a, b, c, x):\n",
        "  ret = (a*x)**2 + b*x + c\n",
        "  print(ret, end=\" - \")\n",
        "\n",
        "\n",
        "\n",
        "polinomio (1, 2, 3, 1)\n",
        "polinomio (a=1, b=2, c=3, x=1)\n",
        "polinomio (b=2, a=1, c=3, x=1)\n",
        "\n",
        "#Resultado:\n",
        "\n",
        "#6 - 6 - 6 -"
      ]
    },
    {
      "cell_type": "code",
      "source": [
        "#!/usr/bin/env python3\n",
        "def multiplicaTudo(*n, c):\n",
        "  print(n)\n",
        "  ret = 1\n",
        "  for i in n:\n",
        "    ret = ret * i\n",
        "  ret = ret + c\n",
        "  print(ret)\n",
        "\n",
        "multiplicaTudo(1, 2, 3, 4, c=10)\n",
        "#Resultado:\n",
        "#(1, 2, 3, 4)\n",
        "#34"
      ],
      "metadata": {
        "colab": {
          "base_uri": "https://localhost:8080/"
        },
        "id": "jog3MjR9Ue_o",
        "outputId": "01e6616e-249f-436c-f4a3-f49014a6b59e"
      },
      "execution_count": 6,
      "outputs": [
        {
          "output_type": "stream",
          "name": "stdout",
          "text": [
            "(1, 2, 3, 4)\n",
            "34\n"
          ]
        }
      ]
    },
    {
      "cell_type": "code",
      "source": [
        "# função -> um bloco de código reutilizável\n",
        "    # outra vantage: organização\n",
        "\n",
        "\n",
        "# como funciona:\n",
        "    # def nome_da_função(poarametros):\n",
        "      # instrução 1\n",
        "      # instrução 2\n",
        "      # ...\n",
        "      # return valor (opicional)\n",
        "\n",
        "def calcular_imposto(valor):\n",
        "  if valor < 1000:\n",
        "    imposto = valor * 0.10\n",
        "  elif valor < 5000:\n",
        "    imposto = valor * 0.15\n",
        "  else:\n",
        "    imposto = valor * 0.20\n",
        "  return imposto\n",
        "\n",
        "preco_produto1 = 2000\n",
        "preco_produto2 = 5000\n",
        "preco_produto3 = 10000\n",
        "\n",
        "print(calcular_imposto(preco_produto1))\n",
        "print(calcular_imposto(preco_produto2))\n",
        "print(calcular_imposto(preco_produto3))\n"
      ],
      "metadata": {
        "colab": {
          "base_uri": "https://localhost:8080/"
        },
        "id": "vaOIhSJPH7_Q",
        "outputId": "a9e206a0-1604-49a3-c42f-7fcc26b80d18"
      },
      "execution_count": 2,
      "outputs": [
        {
          "output_type": "stream",
          "name": "stdout",
          "text": [
            "300.0\n",
            "1000.0\n",
            "2000.0\n"
          ]
        }
      ]
    },
    {
      "cell_type": "code",
      "source": [
        "def juros_simples(parcela, tx_juro, meses):\n",
        "    return (parcela * (1 + tx_juro) * meses)\n",
        "\n",
        "def juros_compostos(parcela, tx_juro, meses, valor_presente=0):\n",
        "    vp = (valor_presente + parcela) * (1 + tx_juro)\n",
        "    print(parcela, tx_juro, meses, vp)\n",
        "    if meses == 1:\n",
        "        return vp\n",
        "    else:\n",
        "        return juros_compostos(parcela, tx_juro, meses-1, vp)\n",
        "\n",
        "print(juros_compostos(10, 0.1, 10))"
      ],
      "metadata": {
        "colab": {
          "base_uri": "https://localhost:8080/"
        },
        "id": "QyDUZ-rnvVw-",
        "outputId": "364584c0-d13e-4ad6-bb64-e404e17d8646"
      },
      "execution_count": 5,
      "outputs": [
        {
          "output_type": "stream",
          "name": "stdout",
          "text": [
            "10 0.1 10 11.0\n",
            "10 0.1 9 23.1\n",
            "10 0.1 8 36.410000000000004\n",
            "10 0.1 7 51.05100000000001\n",
            "10 0.1 6 67.15610000000001\n",
            "10 0.1 5 84.87171000000002\n",
            "10 0.1 4 104.35888100000003\n",
            "10 0.1 3 125.79476910000004\n",
            "10 0.1 2 149.37424601000006\n",
            "10 0.1 1 175.3116706110001\n",
            "175.3116706110001\n"
          ]
        }
      ]
    },
    {
      "cell_type": "code",
      "source": [
        "def calcula_media(a, b):\n",
        "    return (a + b)/2\n",
        "\n",
        "x1 = input(\"Entre com o primeiro número\")#input sempre retorna o valor como uma string, por isso que tem que transformar em float\n",
        "x2 = input(\"Entre com o segundo número\")#\"\"\n",
        "print(calcula_media(float(x1), float(x2)))"
      ],
      "metadata": {
        "colab": {
          "base_uri": "https://localhost:8080/"
        },
        "id": "wUDwiV1JxPjf",
        "outputId": "fabdf892-1e71-4328-c9ba-91484bd6f686"
      },
      "execution_count": 6,
      "outputs": [
        {
          "output_type": "stream",
          "name": "stdout",
          "text": [
            "Entre com o primeiro número45\n",
            "Entre com o segundo número6\n",
            "25.5\n"
          ]
        }
      ]
    },
    {
      "cell_type": "code",
      "source": [
        "import math #Para a função sqrt, que calcula raíz quadrada\n",
        "\n",
        "def acha_raizes(a, b, c):\n",
        "    delta = math.sqrt(b**2 - 4 * a * c)\n",
        "    r1 = (-1 * b + delta)/(2 * a)\n",
        "    r2 = (-1 * b - delta)/(2 * a)\n",
        "    return [r1, r2]\n",
        "\n",
        "print(acha_raizes(3, -5, 0.5))"
      ],
      "metadata": {
        "colab": {
          "base_uri": "https://localhost:8080/"
        },
        "id": "zeDMvIDCxoAO",
        "outputId": "ee86aa32-65ab-46d8-aac9-f0c390f8a773"
      },
      "execution_count": 7,
      "outputs": [
        {
          "output_type": "stream",
          "name": "stdout",
          "text": [
            "[1.5598164905901122, 0.10685017607655434]\n"
          ]
        }
      ]
    },
    {
      "cell_type": "code",
      "source": [],
      "metadata": {
        "id": "Xi7mW5U80LWW"
      },
      "execution_count": null,
      "outputs": []
    },
    {
      "cell_type": "markdown",
      "source": [
        "Exercício 5.6. Considerando uma função de terceiro grau f(x) = a⋅x3 + b⋅x2 + c ⋅x +d, faça um programa que leia os parâmetros. Faça: i) um procedimento para que leia o valor de (x; ii) uma função que retorne o valor de f(x) para a função de terceiro grau; iii) um procedimento que leia três valores (Início, Fim e Incremento) e faça o cálculo de f(x) variando o valor de x do Início até o valor de Fim por meio de somas do valor de Incremento. Por exemplo: Se Início = 1; Fim = 5; Incremento = 0,5 a função deverá calcular f(1), f(1,5), f(2), f(2,5), …, f(5).\n"
      ],
      "metadata": {
        "id": "Nm2feQ2N0Kbx"
      }
    },
    {
      "cell_type": "code",
      "source": [
        "def ler_x():\n",
        "    \"\"\"Lê o valor de x do usuário.\"\"\"\n",
        "    x = float(input(\"Digite o valor de x: \"))\n",
        "    return x\n",
        "\n",
        "def calcular_f_x(a, b, c, d, x):\n",
        "    \"\"\"Calcula o valor de f(x) para a função de terceiro grau.\"\"\"\n",
        "    return a * x**3 + b * x**2 + c * x + d\n",
        "\n",
        "def calcular_f_x_intervalo(a, b, c, d, inicio, fim, incremento):\n",
        "    \"\"\"Calcula f(x) para um intervalo de valores de x.\"\"\"\n",
        "    x = inicio\n",
        "    while x <= fim:\n",
        "        f_x = calcular_f_x(a, b, c, d, x)\n",
        "        print(f\"f({x:.2f}) = {f_x:.2f}\")  # Formatação para duas casas decimais\n",
        "        x += incremento\n",
        "\n",
        "# Programa principal\n",
        "print(\"Calculando valores de uma função de terceiro grau:\")\n",
        "a = float(input(\"Digite o valor de a: \"))\n",
        "b = float(input(\"Digite o valor de b: \"))\n",
        "c = float(input(\"Digite o valor de c: \"))\n",
        "d = float(input(\"Digite o valor de d: \"))\n",
        "\n",
        "# (i) Ler o valor de x\n",
        "x = ler_x()\n",
        "\n",
        "# (ii) Calcular f(x)\n",
        "f_x = calcular_f_x(a, b, c, d, x)\n",
        "print(f\"f({x}) = {f_x}\")\n",
        "\n",
        "# (iii) Calcular f(x) para um intervalo\n",
        "inicio = float(input(\"Digite o valor de início do intervalo: \"))\n",
        "fim = float(input(\"Digite o valor de fim do intervalo: \"))\n",
        "incremento = float(input(\"Digite o valor de incremento: \"))\n",
        "\n",
        "calcular_f_x_intervalo(a, b, c, d, inicio, fim, incremento)"
      ],
      "metadata": {
        "colab": {
          "base_uri": "https://localhost:8080/"
        },
        "id": "DI0OWtrszjwW",
        "outputId": "7c2df400-e74f-4235-e6ad-6d595c8da7c3"
      },
      "execution_count": 8,
      "outputs": [
        {
          "output_type": "stream",
          "name": "stdout",
          "text": [
            "Calculando valores de uma função de terceiro grau:\n",
            "Digite o valor de a: 2\n",
            "Digite o valor de b: 6\n",
            "Digite o valor de c: 5\n",
            "Digite o valor de d: 3\n",
            "Digite o valor de x: 2\n",
            "f(2.0) = 53.0\n",
            "Digite o valor de início do intervalo: 2\n",
            "Digite o valor de fim do intervalo: 6\n",
            "Digite o valor de incremento: 43\n",
            "f(2.00) = 53.00\n"
          ]
        }
      ]
    },
    {
      "cell_type": "markdown",
      "source": [
        "Exercício 5.10. Faça um programa que leia um valor N e calcule por meio de uma função recursiva o seu fatorial. Considere:\n",
        "\n",
        "Fatorial(0) = 1\n",
        "\n",
        "Fatorial(N) = N * Fatorial (N-1)"
      ],
      "metadata": {
        "id": "9RaXO5PP0ReT"
      }
    },
    {
      "cell_type": "code",
      "source": [
        "def fatorial_recursivo(n):\n",
        "  \"\"\"Calcula o fatorial de um número usando recursão.\n",
        "\n",
        "  Args:\n",
        "    n: O número para o qual calcular o fatorial.\n",
        "\n",
        "  Returns:\n",
        "    O fatorial de n.\n",
        "  \"\"\"\n",
        "  if n == 0:\n",
        "    return 1\n",
        "  else:\n",
        "    return n * fatorial_recursivo(n - 1)\n",
        "\n",
        "# Programa principal\n",
        "numero = int(input(\"Digite um número inteiro não negativo: \"))\n",
        "\n",
        "if numero < 0:\n",
        "  print(\"O fatorial não está definido para números negativos.\")\n",
        "else:\n",
        "  resultado = fatorial_recursivo(numero)\n",
        "  print(f\"O fatorial de {numero} é {resultado}\")"
      ],
      "metadata": {
        "colab": {
          "base_uri": "https://localhost:8080/"
        },
        "id": "7hyVyeaL0dzN",
        "outputId": "66c4cd26-a363-4c36-cf87-fe9a1d34e089"
      },
      "execution_count": 12,
      "outputs": [
        {
          "output_type": "stream",
          "name": "stdout",
          "text": [
            "Digite um número inteiro não negativo: 9\n",
            "O fatorial de 9 é 362880\n"
          ]
        }
      ]
    },
    {
      "cell_type": "code",
      "source": [
        "#O script 5.13 é o abaixo.\n",
        "def recursivo(val):\n",
        "    print (\"Função chamada. val=\",val)\n",
        "    if val == 1:\n",
        "        print (\"Função retorna\",1)\n",
        "        return 1\n",
        "    else:\n",
        "        resposta = val + recursivo(val - 1)\n",
        "        print (\"Função retorna\", resposta)\n",
        "        return(resposta)\n",
        "\n",
        "print(recursivo(5))"
      ],
      "metadata": {
        "colab": {
          "base_uri": "https://localhost:8080/"
        },
        "id": "L1wk70Xk1b7b",
        "outputId": "6e2f7111-c4e5-47d4-8f2b-5c831a485168"
      },
      "execution_count": 13,
      "outputs": [
        {
          "output_type": "stream",
          "name": "stdout",
          "text": [
            "Função chamada. val= 5\n",
            "Função chamada. val= 4\n",
            "Função chamada. val= 3\n",
            "Função chamada. val= 2\n",
            "Função chamada. val= 1\n",
            "Função retorna 1\n",
            "Função retorna 3\n",
            "Função retorna 6\n",
            "Função retorna 10\n",
            "Função retorna 15\n",
            "15\n"
          ]
        }
      ]
    },
    {
      "cell_type": "code",
      "source": [
        "def decrementa(x):\n",
        "    print (\"inicio de decrementa(\",x,\")\")\n",
        "    if x > 0:\n",
        "        print (x)\n",
        "        decrementa(x-1)\n",
        "    print (\"fim de decrementa(\",x,\")\")\n",
        "\n",
        "decrementa(4)"
      ],
      "metadata": {
        "colab": {
          "base_uri": "https://localhost:8080/"
        },
        "id": "TvFkkzw31gtm",
        "outputId": "b7f29c59-2417-4b7b-cb26-9038d9d1c7a2"
      },
      "execution_count": 14,
      "outputs": [
        {
          "output_type": "stream",
          "name": "stdout",
          "text": [
            "inicio de decrementa( 4 )\n",
            "4\n",
            "inicio de decrementa( 3 )\n",
            "3\n",
            "inicio de decrementa( 2 )\n",
            "2\n",
            "inicio de decrementa( 1 )\n",
            "1\n",
            "inicio de decrementa( 0 )\n",
            "fim de decrementa( 0 )\n",
            "fim de decrementa( 1 )\n",
            "fim de decrementa( 2 )\n",
            "fim de decrementa( 3 )\n",
            "fim de decrementa( 4 )\n"
          ]
        }
      ]
    },
    {
      "cell_type": "code",
      "source": [
        "def alteraglobal():\n",
        "    global var1\n",
        "    print (\"O valor de var1 dentro da função analisa é\", var1)\n",
        "    var1 = 10\n",
        "    print (\"O valor modificado de var1 dentro da função analisa é\", var1)\n",
        "\n",
        "var1 = 6\n",
        "alteraglobal()\n",
        "print(\"O valor de var1 após a função é\", var1)"
      ],
      "metadata": {
        "colab": {
          "base_uri": "https://localhost:8080/"
        },
        "id": "JM84S8jx1lKJ",
        "outputId": "7378a4a8-580b-4dc7-bcc5-547f65fe5276"
      },
      "execution_count": 15,
      "outputs": [
        {
          "output_type": "stream",
          "name": "stdout",
          "text": [
            "O valor de var1 dentro da função analisa é 6\n",
            "O valor modificado de var1 dentro da função analisa é 10\n",
            "O valor de var1 após a função é 10\n"
          ]
        }
      ]
    },
    {
      "cell_type": "code",
      "source": [
        "def escreve(var1):\n",
        "    print (\"O valor de var1 dentro da função analisa é\", var1)\n",
        "    var1 = 10\n",
        "    print (\"O valor modificado de var1 dentro da função analisa é\", var1)\n",
        "\n",
        "var1 = 6\n",
        "escreve(var1)\n",
        "print(\"O valor de var1 após a função é\", var1)"
      ],
      "metadata": {
        "id": "ANZdneVd1oBG",
        "outputId": "e80edf17-03af-4703-e0d6-efc79b7168d5",
        "colab": {
          "base_uri": "https://localhost:8080/"
        }
      },
      "execution_count": 16,
      "outputs": [
        {
          "output_type": "stream",
          "name": "stdout",
          "text": [
            "O valor de var1 dentro da função analisa é 6\n",
            "O valor modificado de var1 dentro da função analisa é 10\n",
            "O valor de var1 após a função é 6\n"
          ]
        }
      ]
    }
  ]
}