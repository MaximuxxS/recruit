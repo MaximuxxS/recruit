{
  "nbformat": 4,
  "nbformat_minor": 0,
  "metadata": {
    "colab": {
      "provenance": [],
      "authorship_tag": "ABX9TyO0TZREAriQYNErSTosUjVi",
      "include_colab_link": true
    },
    "kernelspec": {
      "name": "python3",
      "display_name": "Python 3"
    },
    "language_info": {
      "name": "python"
    }
  },
  "cells": [
    {
      "cell_type": "markdown",
      "metadata": {
        "id": "view-in-github",
        "colab_type": "text"
      },
      "source": [
        "<a href=\"https://colab.research.google.com/github/MaximuxxS/recruit/blob/main/Estruturas_de_dados_iter%C3%A1veis.ipynb\" target=\"_parent\"><img src=\"https://colab.research.google.com/assets/colab-badge.svg\" alt=\"Open In Colab\"/></a>"
      ]
    },
    {
      "cell_type": "code",
      "execution_count": null,
      "metadata": {
        "id": "n18g2SXIR5G8"
      },
      "outputs": [],
      "source": [
        "#Definição das tuplas\n",
        "Tupla1 = (\"1\",\"2\",\"3\",\"5\")\n",
        "Tupla2 = (\"A\",)\n",
        "NaoEhTupla = (\"A\") #tem que ter vírgula para ser tupla. Vírgula e parênteses"
      ]
    },
    {
      "cell_type": "code",
      "source": [
        "#Imprime a variável Tupla1\n",
        "print(\"Tupla1:\", Tupla1)\n",
        "#Imprime o tipo da variável Tupla1\n",
        "print(\"A Tupla1 é do tipo:\", type(Tupla1))\n",
        "#imprime o tamanho da tupla\n",
        "print(\"O tamanho da Tupla1 é:\",len(Tupla1), \"\\n\")"
      ],
      "metadata": {
        "colab": {
          "base_uri": "https://localhost:8080/"
        },
        "id": "N3MRFsnoSE7v",
        "outputId": "3f736aa7-2155-494a-89fe-de1a18fcbe4f"
      },
      "execution_count": null,
      "outputs": [
        {
          "output_type": "stream",
          "name": "stdout",
          "text": [
            "Tupla1: ('1', '2', '3', '5')\n",
            "A Tupla1 é do tipo: <class 'tuple'>\n",
            "O tamanho da Tupla1 é: 1 \n",
            "\n"
          ]
        }
      ]
    },
    {
      "cell_type": "code",
      "source": [
        "print(\"Tupla2:\", Tupla2)\n",
        "print(\"A Tupla2 é do tipo:\", type(Tupla2))\n",
        "print(\"O tamanho da Tupla2 é:\",len(Tupla2), \"\\n\")\n",
        "\n",
        "print(\"NaoEhTupla:\", NaoEhTupla )\n",
        "print(\"NaoEhTupla é do tipo:\", type(NaoEhTupla))\n",
        "print(\"O tamanho da variável NaoEhTupla é:\",len(NaoEhTupla), \"\\n\")"
      ],
      "metadata": {
        "colab": {
          "base_uri": "https://localhost:8080/"
        },
        "id": "mLajyhSoSHUY",
        "outputId": "bd844751-0453-481c-f46a-28ec8210d253"
      },
      "execution_count": null,
      "outputs": [
        {
          "output_type": "stream",
          "name": "stdout",
          "text": [
            "Tupla2: ('A',)\n",
            "A Tupla2 é do tipo: <class 'tuple'>\n",
            "O tamanho da Tupla2 é: 1 \n",
            "\n",
            "NaoEhTupla: A\n",
            "NaoEhTupla é do tipo: <class 'str'>\n",
            "O tamanho da variável NaoEhTupla é: 1 \n",
            "\n"
          ]
        }
      ]
    },
    {
      "cell_type": "code",
      "source": [
        "#Definição da tupla\n",
        "Tupla1 = ( 6,'6','8','1') #Caso não tenha vírgulas, é considerado string, inteiro ou float\n",
        "print(\"Tupla1 : \", Tupla1)\n",
        "\n",
        "#imprime o valor do primeiro elemento da lista - índice 0\n",
        "print(\"O primeiro elemento da Tupla1 é:\", Tupla1[0]) #Entre colchetes tem o índice escolhido\n",
        "\n",
        "#imprime o tipo do primeiro elemento da Tupla1\n",
        "print(\"O primeiro elemento da Tupla1 é do tipo:\",type(Tupla1[0]))\n",
        "\n",
        "#imprime o segundo elemento da Tupla1\n",
        "print(\"O segundo elemento da Tupla1 é:\", Tupla1[1])\n",
        "\n",
        "#imprime o primeiro e o segundo elemento da tupla\n",
        "print(\"Imprime o primeiro e o segundo elemento da Tupla1\", Tupla1[:2], \"\\n\")\n",
        "\n",
        "#imprime o último elemento da Tupla1\n",
        "print(\"O último elemento da Tupla1 é:\", Tupla1[-1])\n",
        "\n",
        "#imprime o penúltimo elemento da Tupla1\n",
        "print(\"O penúltimo elemento da Tupla1 é\", Tupla1[-2])\n",
        "\n",
        "#imprime o penúltimo e o último elemento da Tupla1\n",
        "print(\"Imprime o penúltimo e último elemento da Tupla1\", Tupla1[-2:])\n",
        "\n",
        "#imprime a Tupla1 na ordem inversa\n",
        "print(\"A Tupla1 em ordem inersa é:\", Tupla1[::-1])"
      ],
      "metadata": {
        "colab": {
          "base_uri": "https://localhost:8080/"
        },
        "id": "EbDy3-2SSJsC",
        "outputId": "fa267cc8-3adc-4103-dc1b-5a96479e8cf5"
      },
      "execution_count": null,
      "outputs": [
        {
          "output_type": "stream",
          "name": "stdout",
          "text": [
            "Tupla1 :  (6, '6', '8', '1')\n",
            "O primeiro elemento da Tupla1 é: 6\n",
            "O primeiro elemento da Tupla1 é do tipo: <class 'int'>\n",
            "O segundo elemento da Tupla1 é: 6\n",
            "Imprime o primeiro e o segundo elemento da Tupla1 (6, '6') \n",
            "\n",
            "O último elemento da Tupla1 é: 1\n",
            "O penúltimo elemento da Tupla1 é 8\n",
            "Imprime o penúltimo e último elemento da Tupla1 ('8', '1')\n",
            "A Tupla1 em ordem inersa é: ('1', '8', '6', 6)\n"
          ]
        }
      ]
    },
    {
      "cell_type": "code",
      "source": [
        "valor = int(input(\"Entre com o valor desejado para saque:\"))\n",
        "\n",
        "notas = (100, 50, 20, 10, 5)\n",
        "\n",
        "notas100 = int(valor / notas[0])\n",
        "resto = valor % notas[0]\n",
        "print (\"Entregar \", notas100, \"notas de \", notas[0])\n",
        "\n",
        "notas50 = int(valor / notas[1])\n",
        "resto = valor % notas[1]\n",
        "print (\"Entregar \", notas50, \"notas de \", notas[1])\n",
        "\n",
        "notas20 = int(valor / notas[2])\n",
        "resto = valor % notas[2]\n",
        "print (\"Entregar \", notas20, \"notas de \", notas[2])\n",
        "\n",
        "notas10 = int(valor / notas[3])\n",
        "resto = valor % notas[3]\n",
        "print (\"Entregar \", notas10, \"notas de \", notas[3])\n",
        "\n",
        "notas5 = int(valor / notas[4])\n",
        "resto = valor % notas[4]\n",
        "print (\"Entregar \", notas5, \"notas de \", notas[4])"
      ],
      "metadata": {
        "id": "0a0KL5CSSLjr"
      },
      "execution_count": null,
      "outputs": []
    },
    {
      "cell_type": "code",
      "source": [
        "valor = int(input(\"Entre com o valor desejado para saque:\")) # Máquina de troco mais avançada em questão do codigo\n",
        "\n",
        "notas = (100, 50, 20, 10, 5)\n",
        "\n",
        "for i in range(0,len(notas)):# Inicia-se no índice 0 e vai até o último índice da variável notas\n",
        "\n",
        "    quantidade = int(valor / notas[i])\n",
        "    resto = valor % notas[i]\n",
        "    print (i+1,\" - Entregar \", quantidade, \"notas de \", notas[i])"
      ],
      "metadata": {
        "colab": {
          "base_uri": "https://localhost:8080/"
        },
        "id": "UU5dJ5MWSNEB",
        "outputId": "44ecfad8-79c8-4cac-9883-d90938301928"
      },
      "execution_count": null,
      "outputs": [
        {
          "output_type": "stream",
          "name": "stdout",
          "text": [
            "Entre com o valor desejado para saque:34132\n",
            "1  - Entregar  341 notas de  100\n",
            "2  - Entregar  682 notas de  50\n",
            "3  - Entregar  1706 notas de  20\n",
            "4  - Entregar  3413 notas de  10\n",
            "5  - Entregar  6826 notas de  5\n"
          ]
        }
      ]
    },
    {
      "cell_type": "code",
      "source": [
        "valor = int(input(\"Entre com o valor desejado para saque:\")) # Outra maneira de fazer uma máquina de troco.\n",
        "\n",
        "notas = (100, 50, 20, 10, 5)\n",
        "\n",
        "i = 0\n",
        "\n",
        "while (i < len(notas)):\n",
        "\n",
        "    quantidade = int(valor / notas[i])\n",
        "    resto = valor % notas[i]\n",
        "    print (i+1,\" - Entregar \", quantidade, \"notas de \", notas[i])\n",
        "    i = i + 1"
      ],
      "metadata": {
        "colab": {
          "base_uri": "https://localhost:8080/"
        },
        "id": "Mdxrc0diSOx0",
        "outputId": "85751d3a-32da-43c9-e192-8037167aa7a0"
      },
      "execution_count": null,
      "outputs": [
        {
          "output_type": "stream",
          "name": "stdout",
          "text": [
            "Entre com o valor desejado para saque:2423\n",
            "1  - Entregar  24 notas de  100\n",
            "2  - Entregar  48 notas de  50\n",
            "3  - Entregar  121 notas de  20\n",
            "4  - Entregar  242 notas de  10\n",
            "5  - Entregar  484 notas de  5\n"
          ]
        }
      ]
    },
    {
      "cell_type": "code",
      "source": [
        "valor = int(input(\"Entre com o valor desejado para saque:\"))\n",
        "\n",
        "notas = (100, 50, 20, 10, 5)\n",
        "\n",
        "\n",
        "for nota in notas:\n",
        "\n",
        "    quantidade = int(valor / nota)\n",
        "    resto = valor % nota\n",
        "    print (\"Entregar \", quantidade, \"notas de \", nota)"
      ],
      "metadata": {
        "colab": {
          "base_uri": "https://localhost:8080/"
        },
        "id": "QZWqF84CSQ4t",
        "outputId": "5598d095-9a94-4b42-b17e-f4734378a508"
      },
      "execution_count": null,
      "outputs": [
        {
          "output_type": "stream",
          "name": "stdout",
          "text": [
            "Entre com o valor desejado para saque:924\n",
            "Entregar  9 notas de  100\n",
            "Entregar  18 notas de  50\n",
            "Entregar  46 notas de  20\n",
            "Entregar  92 notas de  10\n",
            "Entregar  184 notas de  5\n"
          ]
        }
      ]
    },
    {
      "cell_type": "code",
      "source": [
        "tupla = (\"A\", \"B\", \"C\")\n",
        "for i, v in enumerate(tupla): # Enumerate é uma função que tem como objetivo ler o índice de cada elemento\n",
        "    print(i, \" - \",v)"
      ],
      "metadata": {
        "colab": {
          "base_uri": "https://localhost:8080/"
        },
        "id": "-scGIO-uSSOc",
        "outputId": "3ae5d1ce-a40a-4e7d-89e4-4470d0b13516"
      },
      "execution_count": null,
      "outputs": [
        {
          "output_type": "stream",
          "name": "stdout",
          "text": [
            "0  -  A\n",
            "1  -  B\n",
            "2  -  C\n"
          ]
        }
      ]
    },
    {
      "cell_type": "code",
      "source": [
        "Tupla1 = (\"1\",\"2\",\"3\",5)\n",
        "type(Tupla1[2]) #Qual o tipo daquele elemento na tupla."
      ],
      "metadata": {
        "colab": {
          "base_uri": "https://localhost:8080/"
        },
        "id": "6FFm79bWSToD",
        "outputId": "d93c0777-703c-4a9a-cbf8-d12b4a069a4e"
      },
      "execution_count": null,
      "outputs": [
        {
          "output_type": "execute_result",
          "data": {
            "text/plain": [
              "str"
            ]
          },
          "metadata": {},
          "execution_count": 12
        }
      ]
    },
    {
      "cell_type": "code",
      "source": [
        "dicionario = {\"Caderno\":10,\n",
        "              \"Lapiseira\":15,\n",
        "              \"Borracha\":\"nada\",\n",
        "              \"Mochila\":200,\n",
        "              \"Marca Texto\":9}\n",
        "\n",
        "print(dicionario)"
      ],
      "metadata": {
        "colab": {
          "base_uri": "https://localhost:8080/"
        },
        "id": "5WB-yTfQSVOb",
        "outputId": "afe43403-29c3-4004-a0e6-a185c0cffcc8"
      },
      "execution_count": null,
      "outputs": [
        {
          "output_type": "stream",
          "name": "stdout",
          "text": [
            "{'Caderno': 10, 'Lapiseira': 15, 'Borracha': 'nada', 'Mochila': 200, 'Marca Texto': 9}\n"
          ]
        }
      ]
    },
    {
      "cell_type": "code",
      "source": [
        "dicionario[\"Borracha\"]=\"tudo\"\n",
        "print(dicionario[\"Borracha\"])#mostra o valor do objeto selecionado"
      ],
      "metadata": {
        "colab": {
          "base_uri": "https://localhost:8080/"
        },
        "id": "YEDDjrpdSWxG",
        "outputId": "6d9a066b-aff3-434c-ed14-42c76d280fc3"
      },
      "execution_count": null,
      "outputs": [
        {
          "output_type": "stream",
          "name": "stdout",
          "text": [
            "tudo\n"
          ]
        }
      ]
    },
    {
      "cell_type": "code",
      "source": [
        "print(dicionario) #Escreverá tudo aquilo que está no dicionário"
      ],
      "metadata": {
        "colab": {
          "base_uri": "https://localhost:8080/"
        },
        "id": "L9cPgvMFSYwQ",
        "outputId": "dafd1c30-3cd0-421d-efaf-fe39c4771189"
      },
      "execution_count": null,
      "outputs": [
        {
          "output_type": "stream",
          "name": "stdout",
          "text": [
            "{'Caderno': 10, 'Lapiseira': 15, 'Borracha': 'tudo', 'Mochila': 200, 'Marca Texto': 9}\n"
          ]
        }
      ]
    },
    {
      "cell_type": "code",
      "source": [
        "dicionario = {\"Caderno\":10,\"Lapiseira\":15,\"Borracha\":5}\n",
        "\n",
        "print(\"O caderno custa \"+str(dicionario[\"Caderno\"])) # O +str é utilizado para que os valores de cada item sejam escritos no print\n",
        "print(\"A lapiseira custa \"+str(dicionario[\"Lapiseira\"]))\n",
        "print(\"A borracha custa \"+str(dicionario[\"Borracha\"]))"
      ],
      "metadata": {
        "id": "iLHSjLtxSavo"
      },
      "execution_count": null,
      "outputs": []
    },
    {
      "cell_type": "code",
      "source": [
        "dicVazio = {}\n",
        "\n",
        "dicVazio[\"Caderno\"] = 10\n",
        "\n",
        "dicVazio[\"Lapiseira\"] = 15\n",
        "\n",
        "dicVazio[\"Borracha\"] = 5\n",
        "# Conforme vai acrescentando os itens, eles vão para dicVazio\n",
        "print(dicVazio)"
      ],
      "metadata": {
        "colab": {
          "base_uri": "https://localhost:8080/"
        },
        "id": "n68qg9-2ScMg",
        "outputId": "b5f55155-8bab-4c21-9ada-a9c1041682e1"
      },
      "execution_count": null,
      "outputs": [
        {
          "output_type": "stream",
          "name": "stdout",
          "text": [
            "{'Caderno': 10, 'Lapiseira': 15, 'Borracha': 5}\n"
          ]
        }
      ]
    },
    {
      "cell_type": "code",
      "source": [
        "dicionario = {\"key1\":15, \"key2\":10, \"key3\":128}\n",
        "\n",
        "for k, v in dicionario.items(): #k printa as strings que estão dentro do dicionário e v os valores. Acredito que seja isso, preciso reavaliar\n",
        "    print (k, v)"
      ],
      "metadata": {
        "colab": {
          "base_uri": "https://localhost:8080/"
        },
        "id": "2nSYwKtKSdkU",
        "outputId": "0e4c342b-665f-4c32-eb50-661df6b18e32"
      },
      "execution_count": null,
      "outputs": [
        {
          "output_type": "stream",
          "name": "stdout",
          "text": [
            "key1 15\n",
            "key2 10\n",
            "key3 128\n"
          ]
        }
      ]
    },
    {
      "cell_type": "code",
      "source": [
        "#!/usr/bin/env python3\n",
        "\n",
        "dist = {1:{2:1, 3:2, 4:3, 5:4},\n",
        "\n",
        "2:{1:2, 5:3}}\n",
        "\n",
        "print(\"A distância entre 1 e 5 é \", dist[1][5])"
      ],
      "metadata": {
        "colab": {
          "base_uri": "https://localhost:8080/"
        },
        "id": "tfbmfs3Yaaih",
        "outputId": "7a5add55-1a43-4594-9cf9-770251f1bd5a"
      },
      "execution_count": null,
      "outputs": [
        {
          "output_type": "stream",
          "name": "stdout",
          "text": [
            "A distância entre 1 e 5 é  4\n"
          ]
        }
      ]
    },
    {
      "cell_type": "code",
      "source": [
        "!pip install networkx==2.8.8\n",
        "import networkx as nx\n",
        "# Criar um grafo vazio\n",
        "grafo = nx.Graph()\n",
        "\n",
        "# Adicionar nós ao grafo\n",
        "grafo.add_node(1)\n",
        "grafo.add_node(2)\n",
        "grafo.add_node(3)\n",
        "\n",
        "# Adicionar arestas ao grafo\n",
        "grafo.add_edge(1, 2)\n",
        "grafo.add_edge(2, 3)\n",
        "\n",
        "import matplotlib.pyplot as plt\n",
        "\n",
        "nx.draw(grafo, with_labels=True)\n",
        "plt.show()\n",
        "!pip install networkx==2.8.8\n",
        "import networkx as nx\n",
        "import matplotlib.pyplot as plt\n",
        "\n",
        "# Criar um grafo\n",
        "grafo = nx.Graph()\n",
        "grafo.add_nodes_from([1, 2, 3, 4, 5])\n",
        "grafo.add_edges_from([(1, 2), (2, 3), (3, 4), (4, 5), (5, 1)])\n",
        "\n",
        "# Visualizar o grafo\n",
        "nx.draw(grafo, with_labels=True)\n",
        "plt.show()"
      ],
      "metadata": {
        "colab": {
          "base_uri": "https://localhost:8080/",
          "height": 1000
        },
        "id": "iwON42g0atOI",
        "outputId": "472c5e74-6311-400b-9df7-a84580c8bb17"
      },
      "execution_count": null,
      "outputs": [
        {
          "output_type": "stream",
          "name": "stdout",
          "text": [
            "Collecting networkx==2.8.8\n",
            "  Downloading networkx-2.8.8-py3-none-any.whl.metadata (5.1 kB)\n",
            "Downloading networkx-2.8.8-py3-none-any.whl (2.0 MB)\n",
            "\u001b[2K   \u001b[90m━━━━━━━━━━━━━━━━━━━━━━━━━━━━━━━━━━━━━━━━\u001b[0m \u001b[32m2.0/2.0 MB\u001b[0m \u001b[31m17.9 MB/s\u001b[0m eta \u001b[36m0:00:00\u001b[0m\n",
            "\u001b[?25hInstalling collected packages: networkx\n",
            "  Attempting uninstall: networkx\n",
            "    Found existing installation: networkx 3.4.2\n",
            "    Uninstalling networkx-3.4.2:\n",
            "      Successfully uninstalled networkx-3.4.2\n",
            "\u001b[31mERROR: pip's dependency resolver does not currently take into account all the packages that are installed. This behaviour is the source of the following dependency conflicts.\n",
            "nx-cugraph-cu12 24.10.0 requires networkx>=3.0, but you have networkx 2.8.8 which is incompatible.\u001b[0m\u001b[31m\n",
            "\u001b[0mSuccessfully installed networkx-2.8.8\n"
          ]
        },
        {
          "output_type": "display_data",
          "data": {
            "text/plain": [
              "<Figure size 640x480 with 1 Axes>"
            ],
            "image/png": "[encoded data removed]"
          },
          "metadata": {}
        },
        {
          "output_type": "stream",
          "name": "stdout",
          "text": [
            "Requirement already satisfied: networkx==2.8.8 in /usr/local/lib/python3.10/dist-packages (2.8.8)\n"
          ]
        },
        {
          "output_type": "display_data",
          "data": {
            "text/plain": [
              "<Figure size 640x480 with 1 Axes>"
            ],
            "image/png": "[encoded data removed]"
          },
          "metadata": {}
        }
      ]
    },
    {
      "cell_type": "code",
      "source": [
        "# prompt: Uma forma muito utilizada para se representar informações é o grafo. Veja um exemplo na Figura 4.1. Um grafo, é composto por nós (no caso da Figura 4.1, temos 5 nós) e arcos (que ligam dois nós). Essa representação é muito utilizada quando queremos, por exemplo, representar pontos em um mapa e suas respectivas distâncias. Uma forma de se representar no Python as informações de um grafo é usando um dicionário com dois “níveis”. Veja um exemplo dessa representação no script 4.22. O 1:2:1 no script 4.22 simboliza que do nó 1 para o nó 2 o valor do arco corresponde a 1\n",
        "# escreva as variaveis em portugues por favor\n",
        "\n",
        "# Define o dicionário representando o grafo com distâncias entre nós.\n",
        "grafo = {\n",
        "    1: {2: 1, 3: 2, 4: 3, 5: 4},\n",
        "    2: {1: 2, 5: 3}\n",
        "}\n",
        "\n",
        "# Acessa e imprime a distância entre o nó 1 e o nó 5.\n",
        "print(\"A distância entre o nó 1 e o nó 5 é\", grafo[1][5])"
      ],
      "metadata": {
        "colab": {
          "base_uri": "https://localhost:8080/"
        },
        "id": "8cH-vXWra_NN",
        "outputId": "5b112c3c-85b9-4fbd-aaef-9c44d8ac4358"
      },
      "execution_count": null,
      "outputs": [
        {
          "output_type": "stream",
          "name": "stdout",
          "text": [
            "A distância entre o nó 1 e o nó 5 é 4\n"
          ]
        }
      ]
    },
    {
      "cell_type": "code",
      "source": [
        "import networkx as nx\n",
        "import matplotlib.pyplot as plt\n",
        "\n",
        "# Criação do grafo\n",
        "G = nx.Graph()\n",
        "\n",
        "# Adiciona os nós\n",
        "G.add_nodes_from([1, 2, 3, 4, 5])\n",
        "\n",
        "# Adiciona as arestas com os pesos\n",
        "edges = [\n",
        "    (1, 2, 1),\n",
        "    (1, 3, 2),\n",
        "    (1, 4, 3),\n",
        "    (2, 5, 3),\n",
        "    (3, 4, 2),\n",
        "    (4, 5, 1)\n",
        "]\n",
        "G.add_weighted_edges_from(edges)\n",
        "\n",
        "# Desenha o grafo\n",
        "pos = nx.spring_layout(G)  # Posicionamento dos nós\n",
        "nx.draw(G, pos, with_labels=True, node_color=\"lightgray\", node_size=2000, font_size=10)\n",
        "labels = nx.get_edge_attributes(G, 'weight')\n",
        "nx.draw_networkx_edge_labels(G, pos, edge_labels=labels)\n",
        "\n",
        "# Exibe o grafo\n",
        "plt.show()\n",
        "\n"
      ],
      "metadata": {
        "colab": {
          "base_uri": "https://localhost:8080/",
          "height": 516
        },
        "id": "J39e0t-Nbts_",
        "outputId": "f447da96-6860-4547-91c3-fcf3bda354e6"
      },
      "execution_count": null,
      "outputs": [
        {
          "output_type": "display_data",
          "data": {
            "text/plain": [
              "<Figure size 640x480 with 1 Axes>"
            ],
            "image/png": "[encoded data removed]"
          },
          "metadata": {}
        }
      ]
    },
    {
      "cell_type": "code",
      "source": [
        "import networkx as nx\n",
        "import matplotlib.pyplot as plt\n",
        "from mpl_toolkits.mplot3d import Axes3D\n",
        "\n",
        "# Criação do grafo\n",
        "G = nx.Graph()\n",
        "\n",
        "# Adiciona os nós\n",
        "G.add_nodes_from([1, 2, 3, 4, 5])\n",
        "\n",
        "# Adiciona as arestas com pesos\n",
        "edges = [\n",
        "    (1, 2, 1),\n",
        "    (1, 3, 2),\n",
        "    (1, 4, 3),\n",
        "    (2, 5, 3),\n",
        "    (3, 4, 2),\n",
        "    (4, 5, 1)\n",
        "]\n",
        "G.add_weighted_edges_from(edges)\n",
        "\n",
        "# Definir posições 3D para os nós\n",
        "pos = {\n",
        "    1: (0, 0, 0),\n",
        "    2: (1, 1, 0),\n",
        "    3: (-1, 1, 1),\n",
        "    4: (-1, -1, -1),\n",
        "    5: (1, -1, 1)\n",
        "}\n",
        "\n",
        "# Visualizar grafo 3D\n",
        "fig = plt.figure()\n",
        "ax = fig.add_subplot(111, projection=\"3d\")\n",
        "\n",
        "# Desenhar nós\n",
        "for node, (x, y, z) in pos.items():\n",
        "    ax.scatter(x, y, z, s=300, c=\"lightblue\", label=f\"Node {node}\")\n",
        "    ax.text(x, y, z, f\"{node}\", fontsize=10, color=\"black\")\n",
        "\n",
        "# Desenhar arestas\n",
        "for u, v, weight in G.edges(data=\"weight\"):\n",
        "    x = [pos[u][0], pos[v][0]]\n",
        "    y = [pos[u][1], pos[v][1]]\n",
        "    z = [pos[u][2], pos[v][2]]\n",
        "    ax.plot(x, y, z, c=\"gray\")\n",
        "    mid_x = (pos[u][0] + pos[v][0]) / 2\n",
        "    mid_y = (pos[u][1] + pos[v][1]) / 2\n",
        "    mid_z = (pos[u][2] + pos[v][2]) / 2\n",
        "    ax.text(mid_x, mid_y, mid_z, f\"{weight}\", fontsize=8, color=\"red\")\n",
        "\n",
        "# Ajustar os limites e exibir o gráfico\n",
        "ax.set_xlabel(\"X\")\n",
        "ax.set_ylabel(\"Y\")\n",
        "ax.set_zlabel(\"Z\")\n",
        "plt.show()"
      ],
      "metadata": {
        "colab": {
          "base_uri": "https://localhost:8080/",
          "height": 415
        },
        "id": "rBZw86Xib7Zb",
        "outputId": "c168c971-4803-40c2-89b6-18c46295cbdc"
      },
      "execution_count": null,
      "outputs": [
        {
          "output_type": "display_data",
          "data": {
            "text/plain": [
              "<Figure size 640x480 with 1 Axes>"
            ],
            "image/png": "[encoded data removed]"
          },
          "metadata": {}
        }
      ]
    },
    {
      "cell_type": "markdown",
      "source": [
        "Aula 7"
      ],
      "metadata": {
        "id": "rdYqcC2646Pb"
      }
    },
    {
      "cell_type": "code",
      "source": [
        "#!/usr/bin/env python3\n",
        "\n",
        "tabela = [[1, \"Paulo\", 2.5],\n",
        "          [2, \"Maria\", 12],\n",
        "          [3, \"José\", 27]]\n",
        "\n",
        "tempo_Paulo = tabela[0][2]\n",
        "tempo_Maria = tabela[1][2]\n",
        "tempo_Jose = tabela[2][2]\n",
        "\n",
        "fim_Paulo = tempo_Paulo\n",
        "fim_Maria = fim_Paulo + tempo_Maria\n",
        "fim_Jose = fim_Maria + tempo_Jose\n",
        "\n",
        "print(\"O pedido do Paulo termina em\", fim_Paulo)\n",
        "print(\"O pedido da Maria termina em\", fim_Maria)\n",
        "print(\"O pedido do José termina em\", fim_Jose)\n"
      ],
      "metadata": {
        "colab": {
          "base_uri": "https://localhost:8080/"
        },
        "id": "fTiQBhxe47am",
        "outputId": "818f2543-73d3-4eb8-9583-d73a150a7d96"
      },
      "execution_count": 1,
      "outputs": [
        {
          "output_type": "stream",
          "name": "stdout",
          "text": [
            "O pedido do Paulo termina em 2.5\n",
            "O pedido da Maria termina em 14.5\n",
            "O pedido do José termina em 41.5\n"
          ]
        }
      ]
    },
    {
      "cell_type": "code",
      "source": [
        "lista = [4, [\"A\", 15], \"ABC\"]\n",
        "\n",
        "for ele in lista:\n",
        "    print (ele) #Ele printa cada elemento que se encontra dentro da lista"
      ],
      "metadata": {
        "colab": {
          "base_uri": "https://localhost:8080/"
        },
        "id": "jQXnkcD676c-",
        "outputId": "b6259a3c-7bfa-437b-8e80-bb0736925ded"
      },
      "execution_count": 2,
      "outputs": [
        {
          "output_type": "stream",
          "name": "stdout",
          "text": [
            "4\n",
            "['A', 15]\n",
            "ABC\n"
          ]
        }
      ]
    },
    {
      "cell_type": "code",
      "source": [
        "#SCRIPT 4.11\n",
        "\n",
        "tabela = [[\"Alexandre\", 90, 100], [\"Bruna\", 100, 95], [\"Diego\", 30, 80], [\"Felipe\", 40, 10], [\"Gabriela\", 75, 60]]\n",
        "\n",
        "for aluno in tabela:\n",
        "    print (aluno[0])\n",
        "    print (\"--------------\")\n",
        "\n",
        "for nome, frequencia, notafinal in tabela:\n",
        "  if notafinal>=60 and frequencia>=75:#nao pode esquecer que tem que colocar 2 pontos\n",
        "    print(nome, frequencia, notafinal)"
      ],
      "metadata": {
        "colab": {
          "base_uri": "https://localhost:8080/"
        },
        "id": "8vNH65B18e7q",
        "outputId": "81539c7b-6de6-493c-a775-4e9fc3a2d2c5"
      },
      "execution_count": 8,
      "outputs": [
        {
          "output_type": "stream",
          "name": "stdout",
          "text": [
            "Alexandre\n",
            "--------------\n",
            "Bruna\n",
            "--------------\n",
            "Diego\n",
            "--------------\n",
            "Felipe\n",
            "--------------\n",
            "Gabriela\n",
            "--------------\n",
            "Alexandre 90 100\n",
            "Bruna 100 95\n",
            "Gabriela 75 60\n"
          ]
        }
      ]
    },
    {
      "cell_type": "code",
      "source": [
        "original = [1, 2, 3, 4]\n",
        "original[3] = \"a\" #Altera o valor do elemento 3\n",
        "\n",
        "print(original)"
      ],
      "metadata": {
        "colab": {
          "base_uri": "https://localhost:8080/"
        },
        "id": "17ikuPw38iMa",
        "outputId": "fe61038c-4267-46ef-e321-372052ea7c87"
      },
      "execution_count": 4,
      "outputs": [
        {
          "output_type": "stream",
          "name": "stdout",
          "text": [
            "[1, 2, 3, 'a']\n"
          ]
        }
      ]
    },
    {
      "cell_type": "code",
      "source": [
        "listaVazia = []\n",
        "\n",
        "#O método append insere o elemento no fim da lista\n",
        "listaVazia.append(1)\n",
        "listaVazia.append(4)\n",
        "listaVazia.append(92)\n",
        "\n",
        "print(listaVazia)"
      ],
      "metadata": {
        "colab": {
          "base_uri": "https://localhost:8080/"
        },
        "id": "8XRWRwVK8llo",
        "outputId": "c0970faf-3fa5-48f9-8f0d-df80b6f2c05c"
      },
      "execution_count": 5,
      "outputs": [
        {
          "output_type": "stream",
          "name": "stdout",
          "text": [
            "[1, 4, 92]\n"
          ]
        }
      ]
    },
    {
      "cell_type": "markdown",
      "source": [
        "Exercício 4.3"
      ],
      "metadata": {
        "id": "8WNYgM-M8z-E"
      }
    },
    {
      "cell_type": "code",
      "source": [
        "#!/usr/bin/env python3\n",
        "\n",
        "tabela = [[1, \"Paulo\", 2.5],\n",
        "          [2, \"Maria\", 12],\n",
        "          [3, \"José\", 27]]\n",
        "\n",
        "tempo_Paulo = tabela[0][2]\n",
        "tempo_Maria = tabela[1][2]\n",
        "tempo_Jose = tabela[2][2]\n",
        "\n",
        "fim_Paulo = tempo_Paulo\n",
        "fim_Maria = fim_Paulo + tempo_Maria\n",
        "fim_Jose = fim_Maria + tempo_Jose\n",
        "\n",
        "print(\"O pedido do Paulo termina em\", fim_Paulo)\n",
        "print(\"O pedido da Maria termina em\", fim_Maria)\n",
        "print(\"O pedido do José termina em\", fim_Jose)"
      ],
      "metadata": {
        "id": "XqU38yq58y-D"
      },
      "execution_count": null,
      "outputs": []
    },
    {
      "cell_type": "code",
      "source": [
        "# Altere o script 4.11 de forma a mostrar apenas os alunos aprovados (ou seja, com nota final igual ou acima de 60 e frequência maior do que 75%).\n",
        "\n",
        "tabela = [[\"Alexandre\", 90, 100], [\"Bruna\", 100, 95], [\"Diego\", 30, 80], [\"Felipe\", 40, 10], [\"Gabriela\", 75, 60]]\n",
        "\n",
        "for nome, frequencia, notafinal in tabela:\n",
        "    if notafinal >= 60 and frequencia > 75:\n",
        "      print(\"Alunos aprovados\",nome, frequencia, notafinal)\n",
        "    else:\n",
        "      print(\"Alunos reprovados\",nome, frequencia, notafinal)\n",
        ""
      ],
      "metadata": {
        "colab": {
          "base_uri": "https://localhost:8080/"
        },
        "id": "5_L3lKW19DKV",
        "outputId": "688a8109-cbbb-4d25-b38e-b51af64f14e9"
      },
      "execution_count": 12,
      "outputs": [
        {
          "output_type": "stream",
          "name": "stdout",
          "text": [
            "Alunos aprovados Alexandre 90 100\n",
            "Alunos aprovados Bruna 100 95\n",
            "Alunos reprovados Diego 30 80\n",
            "Alunos reprovados Felipe 40 10\n",
            "Alunos reprovados Gabriela 75 60\n"
          ]
        }
      ]
    },
    {
      "cell_type": "code",
      "source": [
        "# prompt: Altere o script 4.11 para que ele indique quantos alunos foram reprovados\n",
        "\n",
        "tabela = [[\"Alexandre\", 90, 100], [\"Bruna\", 100, 95], [\"Diego\", 30, 80], [\"Felipe\", 40, 10], [\"Gabriela\", 75, 60]]\n",
        "\n",
        "reprovados = 0\n",
        "\n",
        "for nome, frequencia, notafinal in tabela:\n",
        "    if notafinal < 60 or frequencia <= 75:\n",
        "        reprovados += 1\n",
        "    else:\n",
        "        print(nome, frequencia, notafinal)\n",
        "\n",
        "print(f\"Total de alunos reprovados: {reprovados}\")"
      ],
      "metadata": {
        "id": "hejGp4aK90Y5"
      },
      "execution_count": null,
      "outputs": []
    },
    {
      "cell_type": "code",
      "source": [
        "# prompt: Altere o script 4.11 para que ele indique a porcentagem de alunos reprovados por nota e a porcentagem de alunos reprovados por falta\n",
        "\n",
        "tabela = [[\"Alexandre\", 90, 100], [\"Bruna\", 100, 95], [\"Diego\", 30, 80], [\"Felipe\", 40, 10], [\"Gabriela\", 75, 60]]\n",
        "\n",
        "reprovados_nota = 0\n",
        "reprovados_falta = 0\n",
        "total_alunos = len(tabela)\n",
        "\n",
        "for nome, frequencia, notafinal in tabela:\n",
        "    if notafinal < 60:\n",
        "        reprovados_nota += 1\n",
        "    if frequencia <= 75:\n",
        "        reprovados_falta += 1\n",
        "\n",
        "percentual_reprovados_nota = (reprovados_nota / total_alunos) * 100\n",
        "percentual_reprovados_falta = (reprovados_falta / total_alunos) * 100\n",
        "\n",
        "print(f\"Porcentagem de alunos reprovados por nota: {percentual_reprovados_nota:.2f}%\")\n",
        "print(f\"Porcentagem de alunos reprovados por falta: {percentual_reprovados_falta:.2f}%\")\n",
        "#código complexo"
      ],
      "metadata": {
        "colab": {
          "base_uri": "https://localhost:8080/"
        },
        "id": "Xxbm5lQ3-nVt",
        "outputId": "9e022b64-75eb-4eff-9d74-6e9f0f54f98b"
      },
      "execution_count": 14,
      "outputs": [
        {
          "output_type": "stream",
          "name": "stdout",
          "text": [
            "Porcentagem de alunos reprovados por nota: 20.00%\n",
            "Porcentagem de alunos reprovados por falta: 60.00%\n"
          ]
        }
      ]
    },
    {
      "cell_type": "code",
      "source": [
        "# prompt: Altere o script 4.11 para que ele indique a maior nota da turma (e o aluno que tirou essa nota).\n",
        "\n",
        "tabela = [[\"Alexandre\", 90, 100], [\"Bruna\", 100, 95], [\"Diego\", 30, 80], [\"Felipe\", 40, 10], [\"Gabriela\", 75, 60]]\n",
        "\n",
        "maior_nota = 0\n",
        "aluno_maior_nota = \"\"\n",
        "\n",
        "for nome, frequencia, notafinal in tabela:\n",
        "    if notafinal > maior_nota:\n",
        "        maior_nota = notafinal\n",
        "        aluno_maior_nota = nome\n",
        "\n",
        "print(f\"A maior nota da turma foi {maior_nota}, tirada por {aluno_maior_nota}.\")\n",
        "#código complexo"
      ],
      "metadata": {
        "colab": {
          "base_uri": "https://localhost:8080/"
        },
        "id": "xcmm_DC__3sG",
        "outputId": "d021890e-79c1-4e8d-f263-e40cb170a94c"
      },
      "execution_count": 15,
      "outputs": [
        {
          "output_type": "stream",
          "name": "stdout",
          "text": [
            "A maior nota da turma foi 100, tirada por Alexandre.\n"
          ]
        }
      ]
    },
    {
      "cell_type": "code",
      "source": [
        "# prompt: Altere o script 4.11 de forma a calcular: (i) a média aritmética da turma; (ii) o desvio padrão da nota da turma e (iii) a porcentagem de reprovações\n",
        "\n",
        "import math\n",
        "\n",
        "tabela = [[\"Alexandre\", 90, 100], [\"Bruna\", 100, 95], [\"Diego\", 30, 80], [\"Felipe\", 40, 10], [\"Gabriela\", 75, 60]]\n",
        "\n",
        "soma_notas = 0\n",
        "num_alunos = len(tabela)\n",
        "reprovados = 0\n",
        "\n",
        "for nome, frequencia, notafinal in tabela:\n",
        "    soma_notas += notafinal\n",
        "    if notafinal < 60 or frequencia <= 75:\n",
        "        reprovados += 1\n",
        "\n",
        "media = soma_notas / num_alunos\n",
        "\n",
        "desvio_padrao = 0\n",
        "for nome, frequencia, notafinal in tabela:\n",
        "    desvio_padrao += (notafinal - media)**2\n",
        "desvio_padrao = math.sqrt(desvio_padrao / num_alunos)\n",
        "\n",
        "\n",
        "percentual_reprovados = (reprovados / num_alunos) * 100\n",
        "\n",
        "print(f\"Média da turma: {media:.2f}\")\n",
        "print(f\"Desvio padrão das notas: {desvio_padrao:.2f}\")\n",
        "print(f\"Porcentagem de reprovações: {percentual_reprovados:.2f}%\")"
      ],
      "metadata": {
        "colab": {
          "base_uri": "https://localhost:8080/"
        },
        "id": "4H77Ig3HAUc9",
        "outputId": "d6d8f134-326c-4728-8fa1-663f2b5e0c14"
      },
      "execution_count": 16,
      "outputs": [
        {
          "output_type": "stream",
          "name": "stdout",
          "text": [
            "Média da turma: 69.00\n",
            "Desvio padrão das notas: 32.62\n",
            "Porcentagem de reprovações: 60.00%\n"
          ]
        }
      ]
    },
    {
      "cell_type": "code",
      "source": [
        "# prompt: Altere o script 4.14 para imprimir a cada iteração de j o conteúdo da matriz.\n",
        "\n",
        "#SCRIPT 4.14\n",
        "tabela = [[\"Alexandre\", 90, 100], [\"Bruna\", 100, 95], [\"Diego\", 30, 80], [\"Felipe\", 40, 10], [\"Gabriela\", 75, 60]]\n",
        "\n",
        "for j in range(len(tabela)):\n",
        "    print(tabela[j]) # Imprime a linha j da tabela\n",
        "    for i in range(len(tabela[j])):\n",
        "        print(tabela[j][i], end=\" \") # Imprime cada elemento da linha j da tabela\n",
        "    print() # Nova linha para melhor visualização"
      ],
      "metadata": {
        "colab": {
          "base_uri": "https://localhost:8080/"
        },
        "id": "Tep4LuQ_AgF7",
        "outputId": "ef97675e-19bb-4bf2-ed9e-83982e7973e9"
      },
      "execution_count": 17,
      "outputs": [
        {
          "output_type": "stream",
          "name": "stdout",
          "text": [
            "['Alexandre', 90, 100]\n",
            "Alexandre 90 100 \n",
            "['Bruna', 100, 95]\n",
            "Bruna 100 95 \n",
            "['Diego', 30, 80]\n",
            "Diego 30 80 \n",
            "['Felipe', 40, 10]\n",
            "Felipe 40 10 \n",
            "['Gabriela', 75, 60]\n",
            "Gabriela 75 60 \n"
          ]
        }
      ]
    },
    {
      "cell_type": "code",
      "source": [
        "# prompt:  Faça um programa que leia, as dimensões de uma matriz A, número de linhas e número de colunas, os valores de cada elemento aij da matriz e depois imprima a matriz transposta\n",
        "\n",
        "# Solicita as dimensões da matriz\n",
        "linhas = int(input(\"Digite o número de linhas da matriz: \"))\n",
        "colunas = int(input(\"Digite o número de colunas da matriz: \"))\n",
        "\n",
        "# Cria a matriz\n",
        "matriz = []\n",
        "for i in range(linhas):\n",
        "  linha = []\n",
        "  for j in range(colunas):\n",
        "    valor = int(input(f\"Digite o valor para o elemento [{i}][{j}]: \"))\n",
        "    linha.append(valor)\n",
        "  matriz.append(linha)\n",
        "\n",
        "# Calcula a matriz transposta\n",
        "transposta = []\n",
        "for j in range(colunas):\n",
        "  linha_transposta = []\n",
        "  for i in range(linhas):\n",
        "    linha_transposta.append(matriz[i][j])\n",
        "  transposta.append(linha_transposta)\n",
        "\n",
        "# Imprime a matriz transposta\n",
        "print(\"Matriz Transposta:\")\n",
        "for linha in transposta:\n",
        "  print(linha)"
      ],
      "metadata": {
        "colab": {
          "base_uri": "https://localhost:8080/"
        },
        "id": "kDTSTl1QApp2",
        "outputId": "1e173ffc-4c8a-44d8-fcf2-0029f680f18c"
      },
      "execution_count": 20,
      "outputs": [
        {
          "output_type": "stream",
          "name": "stdout",
          "text": [
            "Digite o número de linhas da matriz: 2\n",
            "Digite o número de colunas da matriz: 2\n",
            "Digite o valor para o elemento [0][0]: 1\n",
            "Digite o valor para o elemento [0][1]: 2\n",
            "Digite o valor para o elemento [1][0]: 4\n",
            "Digite o valor para o elemento [1][1]: 3\n",
            "Matriz Transposta:\n",
            "[1, 4]\n",
            "[2, 3]\n"
          ]
        }
      ]
    },
    {
      "cell_type": "code",
      "source": [
        "# prompt: Faça um programa que leia os elementos de uma matriz de ordem 3 e calcule sua determinante.\n",
        "\n",
        "def calcular_determinante_3x3(matriz):\n",
        "    \"\"\"\n",
        "    Calcula a determinante de uma matriz 3x3.\n",
        "\n",
        "    Args:\n",
        "      matriz: Uma lista de listas representando a matriz 3x3.\n",
        "\n",
        "    Returns:\n",
        "      A determinante da matriz.\n",
        "    \"\"\"\n",
        "    a = matriz[0][0]\n",
        "    b = matriz[0][1]\n",
        "    c = matriz[0][2]\n",
        "    d = matriz[1][0]\n",
        "    e = matriz[1][1]\n",
        "    f = matriz[1][2]\n",
        "    g = matriz[2][0]\n",
        "    h = matriz[2][1]\n",
        "    i = matriz[2][2]\n",
        "\n",
        "    determinante = a * (e * i - f * h) - b * (d * i - f * g) + c * (d * h - e * g)\n",
        "    return determinante\n",
        "\n",
        "# Exemplo de uso:\n",
        "matriz = []\n",
        "for i in range(3):\n",
        "    linha = []\n",
        "    for j in range(3):\n",
        "        valor = int(input(f\"Digite o valor para o elemento [{i}][{j}]: \"))\n",
        "        linha.append(valor)\n",
        "    matriz.append(linha)\n",
        "\n",
        "determinante = calcular_determinante_3x3(matriz)\n",
        "print(\"A determinante da matriz é:\", determinante)"
      ],
      "metadata": {
        "colab": {
          "base_uri": "https://localhost:8080/"
        },
        "id": "B7kcFqmhAuLe",
        "outputId": "32a8d40e-ba13-4d0f-eb75-254911725502"
      },
      "execution_count": 21,
      "outputs": [
        {
          "output_type": "stream",
          "name": "stdout",
          "text": [
            "Digite o valor para o elemento [0][0]: 2\n",
            "Digite o valor para o elemento [0][1]: 2\n",
            "Digite o valor para o elemento [0][2]: 1\n",
            "Digite o valor para o elemento [1][0]: 4\n",
            "Digite o valor para o elemento [1][1]: 3\n",
            "Digite o valor para o elemento [1][2]: 2\n",
            "Digite o valor para o elemento [2][0]: 5\n",
            "Digite o valor para o elemento [2][1]: 4\n",
            "Digite o valor para o elemento [2][2]: 2\n",
            "A determinante da matriz é: 1\n"
          ]
        }
      ]
    },
    {
      "cell_type": "code",
      "source": [
        "# prompt: Faça um programa que leia as dimensões de uma matriz A, número de linhas e número de colunas, os valores de cada elemento aij da matriz e depois imprima sua matriz inversa A-1.\n",
        "\n",
        "import numpy as np\n",
        "\n",
        "# Solicita as dimensões da matriz\n",
        "linhas = int(input(\"Digite o número de linhas da matriz: \"))\n",
        "colunas = int(input(\"Digite o número de colunas da matriz: \"))\n",
        "\n",
        "# Verifica se a matriz é quadrada\n",
        "if linhas != colunas:\n",
        "    print(\"A matriz não é quadrada. Não é possível calcular a inversa.\")\n",
        "else:\n",
        "    # Cria a matriz\n",
        "    matriz = []\n",
        "    for i in range(linhas):\n",
        "        linha = []\n",
        "        for j in range(colunas):\n",
        "            valor = float(input(f\"Digite o valor para o elemento [{i}][{j}]: \"))\n",
        "            linha.append(valor)\n",
        "        matriz.append(linha)\n",
        "\n",
        "    # Converte a lista de listas para um array NumPy\n",
        "    matriz_np = np.array(matriz)\n",
        "\n",
        "    try:\n",
        "        # Calcula a matriz inversa usando NumPy\n",
        "        matriz_inversa = np.linalg.inv(matriz_np)\n",
        "\n",
        "        # Imprime a matriz inversa\n",
        "        print(\"Matriz Inversa:\")\n",
        "        print(matriz_inversa)\n",
        "    except np.linalg.LinAlgError:\n",
        "        print(\"A matriz não é invertível.\")"
      ],
      "metadata": {
        "colab": {
          "base_uri": "https://localhost:8080/"
        },
        "id": "2KY_ItqhBPqa",
        "outputId": "a6c4f080-3f4a-4f5c-ef77-9e518b44bfbd"
      },
      "execution_count": 22,
      "outputs": [
        {
          "output_type": "stream",
          "name": "stdout",
          "text": [
            "Digite o número de linhas da matriz: 2\n",
            "Digite o número de colunas da matriz: 2\n",
            "Digite o valor para o elemento [0][0]: 1\n",
            "Digite o valor para o elemento [0][1]: 5\n",
            "Digite o valor para o elemento [1][0]: 3\n",
            "Digite o valor para o elemento [1][1]: 4\n",
            "Matriz Inversa:\n",
            "[[-0.36363636  0.45454545]\n",
            " [ 0.27272727 -0.09090909]]\n"
          ]
        }
      ]
    }
  ]
}