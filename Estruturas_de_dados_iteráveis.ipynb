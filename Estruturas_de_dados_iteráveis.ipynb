{
  "nbformat": 4,
  "nbformat_minor": 0,
  "metadata": {
    "colab": {
      "provenance": [],
      "authorship_tag": "ABX9TyOReX4r4YCNObgj6gbkadlS",
      "include_colab_link": true
    },
    "kernelspec": {
      "name": "python3",
      "display_name": "Python 3"
    },
    "language_info": {
      "name": "python"
    }
  },
  "cells": [
    {
      "cell_type": "markdown",
      "metadata": {
        "id": "view-in-github",
        "colab_type": "text"
      },
      "source": [
        "<a href=\"https://colab.research.google.com/github/MaximuxxS/recruit/blob/main/Estruturas_de_dados_iter%C3%A1veis.ipynb\" target=\"_parent\"><img src=\"https://colab.research.google.com/assets/colab-badge.svg\" alt=\"Open In Colab\"/></a>"
      ]
    },
    {
      "cell_type": "code",
      "execution_count": 1,
      "metadata": {
        "id": "n18g2SXIR5G8"
      },
      "outputs": [],
      "source": [
        "#Definição das tuplas\n",
        "Tupla1 = (\"1\",\"2\",\"3\",\"5\")\n",
        "Tupla2 = (\"A\",)\n",
        "NaoEhTupla = (\"A\") #tem que ter vírgula para ser tupla. Vírgula e parênteses"
      ]
    },
    {
      "cell_type": "code",
      "source": [
        "#Imprime a variável Tupla1\n",
        "print(\"Tupla1:\", Tupla1)\n",
        "#Imprime o tipo da variável Tupla1\n",
        "print(\"A Tupla1 é do tipo:\", type(Tupla1))\n",
        "#imprime o tamanho da tupla\n",
        "print(\"O tamanho da Tupla1 é:\",len(Tupla1), \"\\n\")"
      ],
      "metadata": {
        "colab": {
          "base_uri": "https://localhost:8080/"
        },
        "id": "N3MRFsnoSE7v",
        "outputId": "3f736aa7-2155-494a-89fe-de1a18fcbe4f"
      },
      "execution_count": 4,
      "outputs": [
        {
          "output_type": "stream",
          "name": "stdout",
          "text": [
            "Tupla1: ('1', '2', '3', '5')\n",
            "A Tupla1 é do tipo: <class 'tuple'>\n",
            "O tamanho da Tupla1 é: 1 \n",
            "\n"
          ]
        }
      ]
    },
    {
      "cell_type": "code",
      "source": [
        "print(\"Tupla2:\", Tupla2)\n",
        "print(\"A Tupla2 é do tipo:\", type(Tupla2))\n",
        "print(\"O tamanho da Tupla2 é:\",len(Tupla2), \"\\n\")\n",
        "\n",
        "print(\"NaoEhTupla:\", NaoEhTupla )\n",
        "print(\"NaoEhTupla é do tipo:\", type(NaoEhTupla))\n",
        "print(\"O tamanho da variável NaoEhTupla é:\",len(NaoEhTupla), \"\\n\")"
      ],
      "metadata": {
        "colab": {
          "base_uri": "https://localhost:8080/"
        },
        "id": "mLajyhSoSHUY",
        "outputId": "bd844751-0453-481c-f46a-28ec8210d253"
      },
      "execution_count": 5,
      "outputs": [
        {
          "output_type": "stream",
          "name": "stdout",
          "text": [
            "Tupla2: ('A',)\n",
            "A Tupla2 é do tipo: <class 'tuple'>\n",
            "O tamanho da Tupla2 é: 1 \n",
            "\n",
            "NaoEhTupla: A\n",
            "NaoEhTupla é do tipo: <class 'str'>\n",
            "O tamanho da variável NaoEhTupla é: 1 \n",
            "\n"
          ]
        }
      ]
    },
    {
      "cell_type": "code",
      "source": [
        "#Definição da tupla\n",
        "Tupla1 = ( 6,'6','8','1') #Caso não tenha vírgulas, é considerado string\n",
        "print(\"Tupla1 : \", Tupla1)\n",
        "\n",
        "#imprime o valor do primeiro elemento da lista - índice 0\n",
        "print(\"O primeiro elemento da Tupla1 é:\", Tupla1[0]) #Entre colchetes tem o índice escolhido\n",
        "\n",
        "#imprime o tipo do primeiro elemento da Tupla1\n",
        "print(\"O primeiro elemento da Tupla1 é do tipo:\",type(Tupla1[0]))\n",
        "\n",
        "#imprime o segundo elemento da Tupla1\n",
        "print(\"O segundo elemento da Tupla1 é:\", Tupla1[1])\n",
        "\n",
        "#imprime o primeiro e o segundo elemento da tupla\n",
        "print(\"Imprime o primeiro e o segundo elemento da Tupla1\", Tupla1[:2], \"\\n\")\n",
        "\n",
        "#imprime o último elemento da Tupla1\n",
        "print(\"O último elemento da Tupla1 é:\", Tupla1[-1])\n",
        "\n",
        "#imprime o penúltimo elemento da Tupla1\n",
        "print(\"O penúltimo elemento da Tupla1 é\", Tupla1[-2])\n",
        "\n",
        "#imprime o penúltimo e o último elemento da Tupla1\n",
        "print(\"Imprime o penúltimo e último elemento da Tupla1\", Tupla1[-2:])\n",
        "\n",
        "#imprime a Tupla1 na ordem inversa\n",
        "print(\"A Tupla1 em ordem inersa é:\", Tupla1[::-1])"
      ],
      "metadata": {
        "colab": {
          "base_uri": "https://localhost:8080/"
        },
        "id": "EbDy3-2SSJsC",
        "outputId": "fa267cc8-3adc-4103-dc1b-5a96479e8cf5"
      },
      "execution_count": 7,
      "outputs": [
        {
          "output_type": "stream",
          "name": "stdout",
          "text": [
            "Tupla1 :  (6, '6', '8', '1')\n",
            "O primeiro elemento da Tupla1 é: 6\n",
            "O primeiro elemento da Tupla1 é do tipo: <class 'int'>\n",
            "O segundo elemento da Tupla1 é: 6\n",
            "Imprime o primeiro e o segundo elemento da Tupla1 (6, '6') \n",
            "\n",
            "O último elemento da Tupla1 é: 1\n",
            "O penúltimo elemento da Tupla1 é 8\n",
            "Imprime o penúltimo e último elemento da Tupla1 ('8', '1')\n",
            "A Tupla1 em ordem inersa é: ('1', '8', '6', 6)\n"
          ]
        }
      ]
    },
    {
      "cell_type": "code",
      "source": [
        "valor = int(input(\"Entre com o valor desejado para saque:\"))\n",
        "\n",
        "notas = (100, 50, 20, 10, 5)\n",
        "\n",
        "notas100 = int(valor / notas[0])\n",
        "resto = valor % notas[0]\n",
        "print (\"Entregar \", notas100, \"notas de \", notas[0])\n",
        "\n",
        "notas50 = int(valor / notas[1])\n",
        "resto = valor % notas[1]\n",
        "print (\"Entregar \", notas50, \"notas de \", notas[1])\n",
        "\n",
        "notas20 = int(valor / notas[2])\n",
        "resto = valor % notas[2]\n",
        "print (\"Entregar \", notas20, \"notas de \", notas[2])\n",
        "\n",
        "notas10 = int(valor / notas[3])\n",
        "resto = valor % notas[3]\n",
        "print (\"Entregar \", notas10, \"notas de \", notas[3])\n",
        "\n",
        "notas5 = int(valor / notas[4])\n",
        "resto = valor % notas[4]\n",
        "print (\"Entregar \", notas5, \"notas de \", notas[4])"
      ],
      "metadata": {
        "id": "0a0KL5CSSLjr"
      },
      "execution_count": null,
      "outputs": []
    },
    {
      "cell_type": "code",
      "source": [
        "valor = int(input(\"Entre com o valor desejado para saque:\")) # Máquina de troco mais avançada em questão do codigo\n",
        "\n",
        "notas = (100, 50, 20, 10, 5)\n",
        "\n",
        "for i in range(0,len(notas)):# Inicia-se no índice 0 e vai até o último índice da variável notas\n",
        "\n",
        "    quantidade = int(valor / notas[i])\n",
        "    resto = valor % notas[i]\n",
        "    print (i+1,\" - Entregar \", quantidade, \"notas de \", notas[i])"
      ],
      "metadata": {
        "colab": {
          "base_uri": "https://localhost:8080/"
        },
        "id": "UU5dJ5MWSNEB",
        "outputId": "44ecfad8-79c8-4cac-9883-d90938301928"
      },
      "execution_count": 8,
      "outputs": [
        {
          "output_type": "stream",
          "name": "stdout",
          "text": [
            "Entre com o valor desejado para saque:34132\n",
            "1  - Entregar  341 notas de  100\n",
            "2  - Entregar  682 notas de  50\n",
            "3  - Entregar  1706 notas de  20\n",
            "4  - Entregar  3413 notas de  10\n",
            "5  - Entregar  6826 notas de  5\n"
          ]
        }
      ]
    },
    {
      "cell_type": "code",
      "source": [
        "valor = int(input(\"Entre com o valor desejado para saque:\")) # Outra maneira de fazer uma máquina de troco.\n",
        "\n",
        "notas = (100, 50, 20, 10, 5)\n",
        "\n",
        "i = 0\n",
        "\n",
        "while (i < len(notas)):\n",
        "\n",
        "    quantidade = int(valor / notas[i])\n",
        "    resto = valor % notas[i]\n",
        "    print (i+1,\" - Entregar \", quantidade, \"notas de \", notas[i])\n",
        "    i = i + 1"
      ],
      "metadata": {
        "id": "Mdxrc0diSOx0"
      },
      "execution_count": null,
      "outputs": []
    },
    {
      "cell_type": "code",
      "source": [
        "valor = int(input(\"Entre com o valor desejado para saque:\"))\n",
        "\n",
        "notas = (100, 50, 20, 10, 5)\n",
        "\n",
        "\n",
        "for nota in notas:\n",
        "\n",
        "    quantidade = int(valor / nota)\n",
        "    resto = valor % nota\n",
        "    print (\"Entregar \", quantidade, \"notas de \", nota)"
      ],
      "metadata": {
        "id": "QZWqF84CSQ4t"
      },
      "execution_count": null,
      "outputs": []
    },
    {
      "cell_type": "code",
      "source": [
        "tupla = (\"A\", \"B\", \"C\")\n",
        "for i, v in enumerate(tupla):\n",
        "    print(i, \" - \",v)"
      ],
      "metadata": {
        "id": "-scGIO-uSSOc"
      },
      "execution_count": null,
      "outputs": []
    },
    {
      "cell_type": "code",
      "source": [
        "Tupla1 = (\"1\",\"2\",\"3\",5)\n",
        "type(Tupla1[2])"
      ],
      "metadata": {
        "id": "6FFm79bWSToD"
      },
      "execution_count": null,
      "outputs": []
    },
    {
      "cell_type": "code",
      "source": [
        "dicionario = {\"Caderno\":10,\n",
        "              \"Lapiseira\":15,\n",
        "              \"Borracha\":\"nada\"}\n",
        "\n",
        "print(dicionario)"
      ],
      "metadata": {
        "id": "5WB-yTfQSVOb"
      },
      "execution_count": null,
      "outputs": []
    },
    {
      "cell_type": "code",
      "source": [
        "dicionario[\"Borracha\"]=\"tudo\"\n",
        "print(dicionario[\"Borracha\"])"
      ],
      "metadata": {
        "id": "YEDDjrpdSWxG"
      },
      "execution_count": null,
      "outputs": []
    },
    {
      "cell_type": "code",
      "source": [
        "print(dicionario)"
      ],
      "metadata": {
        "id": "L9cPgvMFSYwQ"
      },
      "execution_count": null,
      "outputs": []
    },
    {
      "cell_type": "code",
      "source": [
        "dicionario = {\"Caderno\":10,\"Lapiseira\":15,\"Borracha\":5}\n",
        "\n",
        "print(\"O caderno custa \"+str(dicionario[\"Caderno\"]))\n",
        "print(\"A lapiseira custa \"+str(dicionario[\"Lapiseira\"]))\n",
        "print(\"A borracha custa \"+str(dicionario[\"Borracha\"]))"
      ],
      "metadata": {
        "id": "iLHSjLtxSavo"
      },
      "execution_count": null,
      "outputs": []
    },
    {
      "cell_type": "code",
      "source": [
        "dicVazio = {}\n",
        "\n",
        "dicVazio[\"Caderno\"] = 10\n",
        "\n",
        "dicVazio[\"Lapiseira\"] = 15\n",
        "\n",
        "dicVazio[\"Borracha\"] = 5\n",
        "\n",
        "print(dicVazio)"
      ],
      "metadata": {
        "id": "n68qg9-2ScMg"
      },
      "execution_count": null,
      "outputs": []
    },
    {
      "cell_type": "code",
      "source": [
        "dicionario = {\"key1\":15, \"key2\":10, \"key3\":128}\n",
        "\n",
        "for k, v in dicionario.items():\n",
        "    print (k, v)"
      ],
      "metadata": {
        "id": "2nSYwKtKSdkU"
      },
      "execution_count": null,
      "outputs": []
    }
  ]
}